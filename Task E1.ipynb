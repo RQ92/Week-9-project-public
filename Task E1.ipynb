{
 "cells": [
  {
   "cell_type": "code",
   "execution_count": 424,
   "id": "f8611219",
   "metadata": {},
   "outputs": [],
   "source": [
    "import pandas as pd\n",
    "import numpy as np\n",
    "import matplotlib.pyplot as plt"
   ]
  },
  {
   "cell_type": "markdown",
   "id": "983adf9e",
   "metadata": {},
   "source": [
    "## stations\n",
    "#### import stations, remove closed stations and change dates to datetime"
   ]
  },
  {
   "cell_type": "code",
   "execution_count": 425,
   "id": "137099f6",
   "metadata": {},
   "outputs": [
    {
     "data": {
      "text/html": [
       "<div>\n",
       "<style scoped>\n",
       "    .dataframe tbody tr th:only-of-type {\n",
       "        vertical-align: middle;\n",
       "    }\n",
       "\n",
       "    .dataframe tbody tr th {\n",
       "        vertical-align: top;\n",
       "    }\n",
       "\n",
       "    .dataframe thead th {\n",
       "        text-align: right;\n",
       "    }\n",
       "</style>\n",
       "<table border=\"1\" class=\"dataframe\">\n",
       "  <thead>\n",
       "    <tr style=\"text-align: right;\">\n",
       "      <th></th>\n",
       "      <th>station_id</th>\n",
       "      <th>name</th>\n",
       "      <th>lat</th>\n",
       "      <th>long</th>\n",
       "      <th>install_date</th>\n",
       "      <th>install_dockcount</th>\n",
       "      <th>modification_date</th>\n",
       "      <th>current_dockcount</th>\n",
       "      <th>decommission_date</th>\n",
       "    </tr>\n",
       "  </thead>\n",
       "  <tbody>\n",
       "    <tr>\n",
       "      <th>0</th>\n",
       "      <td>BT-01</td>\n",
       "      <td>3rd Ave &amp; Broad St</td>\n",
       "      <td>47.618418</td>\n",
       "      <td>-122.350964</td>\n",
       "      <td>10/13/2014</td>\n",
       "      <td>18</td>\n",
       "      <td>NaN</td>\n",
       "      <td>18</td>\n",
       "      <td>NaN</td>\n",
       "    </tr>\n",
       "    <tr>\n",
       "      <th>1</th>\n",
       "      <td>BT-03</td>\n",
       "      <td>2nd Ave &amp; Vine St</td>\n",
       "      <td>47.615829</td>\n",
       "      <td>-122.348564</td>\n",
       "      <td>10/13/2014</td>\n",
       "      <td>16</td>\n",
       "      <td>NaN</td>\n",
       "      <td>16</td>\n",
       "      <td>NaN</td>\n",
       "    </tr>\n",
       "    <tr>\n",
       "      <th>2</th>\n",
       "      <td>BT-04</td>\n",
       "      <td>6th Ave &amp; Blanchard St</td>\n",
       "      <td>47.616094</td>\n",
       "      <td>-122.341102</td>\n",
       "      <td>10/13/2014</td>\n",
       "      <td>16</td>\n",
       "      <td>NaN</td>\n",
       "      <td>16</td>\n",
       "      <td>NaN</td>\n",
       "    </tr>\n",
       "    <tr>\n",
       "      <th>3</th>\n",
       "      <td>BT-05</td>\n",
       "      <td>2nd Ave &amp; Blanchard St</td>\n",
       "      <td>47.613110</td>\n",
       "      <td>-122.344208</td>\n",
       "      <td>10/13/2014</td>\n",
       "      <td>14</td>\n",
       "      <td>NaN</td>\n",
       "      <td>14</td>\n",
       "      <td>NaN</td>\n",
       "    </tr>\n",
       "    <tr>\n",
       "      <th>4</th>\n",
       "      <td>CBD-03</td>\n",
       "      <td>7th Ave &amp; Union St</td>\n",
       "      <td>47.610731</td>\n",
       "      <td>-122.332447</td>\n",
       "      <td>10/13/2014</td>\n",
       "      <td>20</td>\n",
       "      <td>NaN</td>\n",
       "      <td>20</td>\n",
       "      <td>NaN</td>\n",
       "    </tr>\n",
       "  </tbody>\n",
       "</table>\n",
       "</div>"
      ],
      "text/plain": [
       "  station_id                    name        lat        long install_date  \\\n",
       "0      BT-01      3rd Ave & Broad St  47.618418 -122.350964   10/13/2014   \n",
       "1      BT-03       2nd Ave & Vine St  47.615829 -122.348564   10/13/2014   \n",
       "2      BT-04  6th Ave & Blanchard St  47.616094 -122.341102   10/13/2014   \n",
       "3      BT-05  2nd Ave & Blanchard St  47.613110 -122.344208   10/13/2014   \n",
       "4     CBD-03      7th Ave & Union St  47.610731 -122.332447   10/13/2014   \n",
       "\n",
       "   install_dockcount modification_date  current_dockcount decommission_date  \n",
       "0                 18               NaN                 18               NaN  \n",
       "1                 16               NaN                 16               NaN  \n",
       "2                 16               NaN                 16               NaN  \n",
       "3                 14               NaN                 14               NaN  \n",
       "4                 20               NaN                 20               NaN  "
      ]
     },
     "execution_count": 425,
     "metadata": {},
     "output_type": "execute_result"
    }
   ],
   "source": [
    "stations = pd.read_csv('data/Seattle_cycles_station.csv')\n",
    "stations.head()"
   ]
  },
  {
   "cell_type": "code",
   "execution_count": 426,
   "id": "70d19ca7",
   "metadata": {},
   "outputs": [
    {
     "name": "stdout",
     "output_type": "stream",
     "text": [
      "<class 'pandas.core.frame.DataFrame'>\n",
      "RangeIndex: 58 entries, 0 to 57\n",
      "Data columns (total 9 columns):\n",
      " #   Column             Non-Null Count  Dtype  \n",
      "---  ------             --------------  -----  \n",
      " 0   station_id         58 non-null     object \n",
      " 1   name               58 non-null     object \n",
      " 2   lat                58 non-null     float64\n",
      " 3   long               58 non-null     float64\n",
      " 4   install_date       58 non-null     object \n",
      " 5   install_dockcount  58 non-null     int64  \n",
      " 6   modification_date  17 non-null     object \n",
      " 7   current_dockcount  58 non-null     int64  \n",
      " 8   decommission_date  4 non-null      object \n",
      "dtypes: float64(2), int64(2), object(5)\n",
      "memory usage: 4.2+ KB\n"
     ]
    }
   ],
   "source": [
    "stations.info()"
   ]
  },
  {
   "cell_type": "code",
   "execution_count": 427,
   "id": "576deb60",
   "metadata": {},
   "outputs": [],
   "source": [
    "stations = stations[stations['current_dockcount'] > 0]"
   ]
  },
  {
   "cell_type": "code",
   "execution_count": 428,
   "id": "4b0bc9c3",
   "metadata": {},
   "outputs": [
    {
     "data": {
      "text/html": [
       "<div>\n",
       "<style scoped>\n",
       "    .dataframe tbody tr th:only-of-type {\n",
       "        vertical-align: middle;\n",
       "    }\n",
       "\n",
       "    .dataframe tbody tr th {\n",
       "        vertical-align: top;\n",
       "    }\n",
       "\n",
       "    .dataframe thead th {\n",
       "        text-align: right;\n",
       "    }\n",
       "</style>\n",
       "<table border=\"1\" class=\"dataframe\">\n",
       "  <thead>\n",
       "    <tr style=\"text-align: right;\">\n",
       "      <th></th>\n",
       "      <th>station_id</th>\n",
       "      <th>name</th>\n",
       "      <th>lat</th>\n",
       "      <th>long</th>\n",
       "      <th>current_dockcount</th>\n",
       "    </tr>\n",
       "  </thead>\n",
       "  <tbody>\n",
       "    <tr>\n",
       "      <th>0</th>\n",
       "      <td>BT-01</td>\n",
       "      <td>3rd Ave &amp; Broad St</td>\n",
       "      <td>47.618418</td>\n",
       "      <td>-122.350964</td>\n",
       "      <td>18</td>\n",
       "    </tr>\n",
       "    <tr>\n",
       "      <th>1</th>\n",
       "      <td>BT-03</td>\n",
       "      <td>2nd Ave &amp; Vine St</td>\n",
       "      <td>47.615829</td>\n",
       "      <td>-122.348564</td>\n",
       "      <td>16</td>\n",
       "    </tr>\n",
       "    <tr>\n",
       "      <th>2</th>\n",
       "      <td>BT-04</td>\n",
       "      <td>6th Ave &amp; Blanchard St</td>\n",
       "      <td>47.616094</td>\n",
       "      <td>-122.341102</td>\n",
       "      <td>16</td>\n",
       "    </tr>\n",
       "    <tr>\n",
       "      <th>3</th>\n",
       "      <td>BT-05</td>\n",
       "      <td>2nd Ave &amp; Blanchard St</td>\n",
       "      <td>47.613110</td>\n",
       "      <td>-122.344208</td>\n",
       "      <td>14</td>\n",
       "    </tr>\n",
       "    <tr>\n",
       "      <th>4</th>\n",
       "      <td>CBD-03</td>\n",
       "      <td>7th Ave &amp; Union St</td>\n",
       "      <td>47.610731</td>\n",
       "      <td>-122.332447</td>\n",
       "      <td>20</td>\n",
       "    </tr>\n",
       "  </tbody>\n",
       "</table>\n",
       "</div>"
      ],
      "text/plain": [
       "  station_id                    name        lat        long  current_dockcount\n",
       "0      BT-01      3rd Ave & Broad St  47.618418 -122.350964                 18\n",
       "1      BT-03       2nd Ave & Vine St  47.615829 -122.348564                 16\n",
       "2      BT-04  6th Ave & Blanchard St  47.616094 -122.341102                 16\n",
       "3      BT-05  2nd Ave & Blanchard St  47.613110 -122.344208                 14\n",
       "4     CBD-03      7th Ave & Union St  47.610731 -122.332447                 20"
      ]
     },
     "execution_count": 428,
     "metadata": {},
     "output_type": "execute_result"
    }
   ],
   "source": [
    "stations = stations.drop(['decommission_date','install_date', 'install_dockcount','modification_date'], axis=1)\n",
    "stations.head()"
   ]
  },
  {
   "cell_type": "markdown",
   "id": "783fabc0",
   "metadata": {},
   "source": [
    "## trips\n",
    "#### import trips, split start date and time and convert to datetime, remove duplicate trips"
   ]
  },
  {
   "cell_type": "code",
   "execution_count": 429,
   "id": "7880d062",
   "metadata": {},
   "outputs": [
    {
     "name": "stderr",
     "output_type": "stream",
     "text": [
      "C:\\Users\\Admin\\AppData\\Local\\Temp\\ipykernel_8716\\260303090.py:1: DtypeWarning: Columns (11) have mixed types. Specify dtype option on import or set low_memory=False.\n",
      "  trips = pd.read_csv('data/Seattle_cycles_trip.csv')\n"
     ]
    },
    {
     "data": {
      "text/html": [
       "<div>\n",
       "<style scoped>\n",
       "    .dataframe tbody tr th:only-of-type {\n",
       "        vertical-align: middle;\n",
       "    }\n",
       "\n",
       "    .dataframe tbody tr th {\n",
       "        vertical-align: top;\n",
       "    }\n",
       "\n",
       "    .dataframe thead th {\n",
       "        text-align: right;\n",
       "    }\n",
       "</style>\n",
       "<table border=\"1\" class=\"dataframe\">\n",
       "  <thead>\n",
       "    <tr style=\"text-align: right;\">\n",
       "      <th></th>\n",
       "      <th>trip_id</th>\n",
       "      <th>starttime</th>\n",
       "      <th>stoptime</th>\n",
       "      <th>bikeid</th>\n",
       "      <th>tripduration</th>\n",
       "      <th>from_station_name</th>\n",
       "      <th>to_station_name</th>\n",
       "      <th>from_station_id</th>\n",
       "      <th>to_station_id</th>\n",
       "      <th>usertype</th>\n",
       "      <th>gender</th>\n",
       "      <th>birthyear</th>\n",
       "    </tr>\n",
       "  </thead>\n",
       "  <tbody>\n",
       "    <tr>\n",
       "      <th>0</th>\n",
       "      <td>431</td>\n",
       "      <td>10/13/2014 10:31</td>\n",
       "      <td>10/13/2014 10:48</td>\n",
       "      <td>SEA00298</td>\n",
       "      <td>985.935</td>\n",
       "      <td>2nd Ave &amp; Spring St</td>\n",
       "      <td>Occidental Park / Occidental Ave S &amp; S Washington St</td>\n",
       "      <td>CBD-06</td>\n",
       "      <td>PS-04</td>\n",
       "      <td>Member</td>\n",
       "      <td>Male</td>\n",
       "      <td>1960</td>\n",
       "    </tr>\n",
       "    <tr>\n",
       "      <th>1</th>\n",
       "      <td>432</td>\n",
       "      <td>10/13/2014 10:32</td>\n",
       "      <td>10/13/2014 10:48</td>\n",
       "      <td>SEA00195</td>\n",
       "      <td>926.375</td>\n",
       "      <td>2nd Ave &amp; Spring St</td>\n",
       "      <td>Occidental Park / Occidental Ave S &amp; S Washington St</td>\n",
       "      <td>CBD-06</td>\n",
       "      <td>PS-04</td>\n",
       "      <td>Member</td>\n",
       "      <td>Male</td>\n",
       "      <td>1970</td>\n",
       "    </tr>\n",
       "    <tr>\n",
       "      <th>2</th>\n",
       "      <td>433</td>\n",
       "      <td>10/13/2014 10:33</td>\n",
       "      <td>10/13/2014 10:48</td>\n",
       "      <td>SEA00486</td>\n",
       "      <td>883.831</td>\n",
       "      <td>2nd Ave &amp; Spring St</td>\n",
       "      <td>Occidental Park / Occidental Ave S &amp; S Washington St</td>\n",
       "      <td>CBD-06</td>\n",
       "      <td>PS-04</td>\n",
       "      <td>Member</td>\n",
       "      <td>Female</td>\n",
       "      <td>1988</td>\n",
       "    </tr>\n",
       "    <tr>\n",
       "      <th>3</th>\n",
       "      <td>434</td>\n",
       "      <td>10/13/2014 10:34</td>\n",
       "      <td>10/13/2014 10:48</td>\n",
       "      <td>SEA00333</td>\n",
       "      <td>865.937</td>\n",
       "      <td>2nd Ave &amp; Spring St</td>\n",
       "      <td>Occidental Park / Occidental Ave S &amp; S Washington St</td>\n",
       "      <td>CBD-06</td>\n",
       "      <td>PS-04</td>\n",
       "      <td>Member</td>\n",
       "      <td>Female</td>\n",
       "      <td>1977</td>\n",
       "    </tr>\n",
       "    <tr>\n",
       "      <th>4</th>\n",
       "      <td>435</td>\n",
       "      <td>10/13/2014 10:34</td>\n",
       "      <td>10/13/2014 10:49</td>\n",
       "      <td>SEA00202</td>\n",
       "      <td>923.923</td>\n",
       "      <td>2nd Ave &amp; Spring St</td>\n",
       "      <td>Occidental Park / Occidental Ave S &amp; S Washington St</td>\n",
       "      <td>CBD-06</td>\n",
       "      <td>PS-04</td>\n",
       "      <td>Member</td>\n",
       "      <td>Male</td>\n",
       "      <td>1971</td>\n",
       "    </tr>\n",
       "  </tbody>\n",
       "</table>\n",
       "</div>"
      ],
      "text/plain": [
       "   trip_id         starttime          stoptime    bikeid  tripduration  \\\n",
       "0      431  10/13/2014 10:31  10/13/2014 10:48  SEA00298       985.935   \n",
       "1      432  10/13/2014 10:32  10/13/2014 10:48  SEA00195       926.375   \n",
       "2      433  10/13/2014 10:33  10/13/2014 10:48  SEA00486       883.831   \n",
       "3      434  10/13/2014 10:34  10/13/2014 10:48  SEA00333       865.937   \n",
       "4      435  10/13/2014 10:34  10/13/2014 10:49  SEA00202       923.923   \n",
       "\n",
       "     from_station_name                                       to_station_name  \\\n",
       "0  2nd Ave & Spring St  Occidental Park / Occidental Ave S & S Washington St   \n",
       "1  2nd Ave & Spring St  Occidental Park / Occidental Ave S & S Washington St   \n",
       "2  2nd Ave & Spring St  Occidental Park / Occidental Ave S & S Washington St   \n",
       "3  2nd Ave & Spring St  Occidental Park / Occidental Ave S & S Washington St   \n",
       "4  2nd Ave & Spring St  Occidental Park / Occidental Ave S & S Washington St   \n",
       "\n",
       "  from_station_id to_station_id usertype  gender birthyear  \n",
       "0          CBD-06         PS-04   Member    Male      1960  \n",
       "1          CBD-06         PS-04   Member    Male      1970  \n",
       "2          CBD-06         PS-04   Member  Female      1988  \n",
       "3          CBD-06         PS-04   Member  Female      1977  \n",
       "4          CBD-06         PS-04   Member    Male      1971  "
      ]
     },
     "execution_count": 429,
     "metadata": {},
     "output_type": "execute_result"
    }
   ],
   "source": [
    "trips = pd.read_csv('data/Seattle_cycles_trip.csv')\n",
    "trips.head()"
   ]
  },
  {
   "cell_type": "code",
   "execution_count": 430,
   "id": "e40e6f73",
   "metadata": {},
   "outputs": [
    {
     "name": "stdout",
     "output_type": "stream",
     "text": [
      "<class 'pandas.core.frame.DataFrame'>\n",
      "RangeIndex: 286858 entries, 0 to 286857\n",
      "Data columns (total 12 columns):\n",
      " #   Column             Non-Null Count   Dtype  \n",
      "---  ------             --------------   -----  \n",
      " 0   trip_id            286858 non-null  int64  \n",
      " 1   starttime          286858 non-null  object \n",
      " 2   stoptime           286858 non-null  object \n",
      " 3   bikeid             286858 non-null  object \n",
      " 4   tripduration       286858 non-null  float64\n",
      " 5   from_station_name  286858 non-null  object \n",
      " 6   to_station_name    286858 non-null  object \n",
      " 7   from_station_id    286858 non-null  object \n",
      " 8   to_station_id      286858 non-null  object \n",
      " 9   usertype           286858 non-null  object \n",
      " 10  gender             181558 non-null  object \n",
      " 11  birthyear          181554 non-null  object \n",
      "dtypes: float64(1), int64(1), object(10)\n",
      "memory usage: 26.3+ MB\n"
     ]
    }
   ],
   "source": [
    "trips.info()"
   ]
  },
  {
   "cell_type": "code",
   "execution_count": 431,
   "id": "598dbfa8",
   "metadata": {},
   "outputs": [],
   "source": [
    "trips['starttime'] = pd.to_datetime(trips['starttime'])\n",
    "trips['start_date'] = trips['starttime'].dt.date\n",
    "trips['start_date'] = pd.to_datetime(trips['start_date'])"
   ]
  },
  {
   "cell_type": "code",
   "execution_count": 432,
   "id": "bf0e3380",
   "metadata": {},
   "outputs": [
    {
     "name": "stdout",
     "output_type": "stream",
     "text": [
      "<class 'pandas.core.frame.DataFrame'>\n",
      "RangeIndex: 286858 entries, 0 to 286857\n",
      "Data columns (total 13 columns):\n",
      " #   Column             Non-Null Count   Dtype         \n",
      "---  ------             --------------   -----         \n",
      " 0   trip_id            286858 non-null  int64         \n",
      " 1   starttime          286858 non-null  datetime64[ns]\n",
      " 2   stoptime           286858 non-null  object        \n",
      " 3   bikeid             286858 non-null  object        \n",
      " 4   tripduration       286858 non-null  float64       \n",
      " 5   from_station_name  286858 non-null  object        \n",
      " 6   to_station_name    286858 non-null  object        \n",
      " 7   from_station_id    286858 non-null  object        \n",
      " 8   to_station_id      286858 non-null  object        \n",
      " 9   usertype           286858 non-null  object        \n",
      " 10  gender             181558 non-null  object        \n",
      " 11  birthyear          181554 non-null  object        \n",
      " 12  start_date         286858 non-null  datetime64[ns]\n",
      "dtypes: datetime64[ns](2), float64(1), int64(1), object(9)\n",
      "memory usage: 28.5+ MB\n"
     ]
    }
   ],
   "source": [
    "trips.info()"
   ]
  },
  {
   "cell_type": "code",
   "execution_count": 433,
   "id": "930e7532",
   "metadata": {},
   "outputs": [
    {
     "data": {
      "text/plain": [
       "25181"
      ]
     },
     "execution_count": 433,
     "metadata": {},
     "output_type": "execute_result"
    }
   ],
   "source": [
    "trips.duplicated().sum()"
   ]
  },
  {
   "cell_type": "code",
   "execution_count": 434,
   "id": "151140e9",
   "metadata": {},
   "outputs": [],
   "source": [
    "trips = trips.drop_duplicates()"
   ]
  },
  {
   "cell_type": "code",
   "execution_count": 435,
   "id": "5fc17dc8",
   "metadata": {},
   "outputs": [
    {
     "data": {
      "text/plain": [
       "0"
      ]
     },
     "execution_count": 435,
     "metadata": {},
     "output_type": "execute_result"
    }
   ],
   "source": [
    "trips.duplicated().sum()"
   ]
  },
  {
   "cell_type": "code",
   "execution_count": 436,
   "id": "ff98e393",
   "metadata": {},
   "outputs": [],
   "source": [
    "trips = trips.drop(['starttime', 'stoptime', 'bikeid', 'tripduration', 'to_station_name', 'to_station_id', 'usertype', 'gender', 'birthyear'],axis=1)\n",
    "trips = trips.reset_index(drop=True)"
   ]
  },
  {
   "cell_type": "code",
   "execution_count": 437,
   "id": "9fe3cb28",
   "metadata": {},
   "outputs": [
    {
     "name": "stdout",
     "output_type": "stream",
     "text": [
      "<class 'pandas.core.frame.DataFrame'>\n",
      "RangeIndex: 261677 entries, 0 to 261676\n",
      "Data columns (total 4 columns):\n",
      " #   Column             Non-Null Count   Dtype         \n",
      "---  ------             --------------   -----         \n",
      " 0   trip_id            261677 non-null  int64         \n",
      " 1   from_station_name  261677 non-null  object        \n",
      " 2   from_station_id    261677 non-null  object        \n",
      " 3   start_date         261677 non-null  datetime64[ns]\n",
      "dtypes: datetime64[ns](1), int64(1), object(2)\n",
      "memory usage: 8.0+ MB\n"
     ]
    }
   ],
   "source": [
    "trips.info()"
   ]
  },
  {
   "cell_type": "markdown",
   "id": "52327829",
   "metadata": {},
   "source": [
    "## merge stations and trips\n",
    "#### extract month_year and day_of_week for each trip\n",
    "#### groupby the number of trips per day per station "
   ]
  },
  {
   "cell_type": "code",
   "execution_count": 438,
   "id": "8910ec08",
   "metadata": {},
   "outputs": [
    {
     "data": {
      "text/html": [
       "<div>\n",
       "<style scoped>\n",
       "    .dataframe tbody tr th:only-of-type {\n",
       "        vertical-align: middle;\n",
       "    }\n",
       "\n",
       "    .dataframe tbody tr th {\n",
       "        vertical-align: top;\n",
       "    }\n",
       "\n",
       "    .dataframe thead th {\n",
       "        text-align: right;\n",
       "    }\n",
       "</style>\n",
       "<table border=\"1\" class=\"dataframe\">\n",
       "  <thead>\n",
       "    <tr style=\"text-align: right;\">\n",
       "      <th></th>\n",
       "      <th>station_id</th>\n",
       "      <th>name</th>\n",
       "      <th>lat</th>\n",
       "      <th>long</th>\n",
       "      <th>current_dockcount</th>\n",
       "      <th>trip_id</th>\n",
       "      <th>Date</th>\n",
       "    </tr>\n",
       "  </thead>\n",
       "  <tbody>\n",
       "    <tr>\n",
       "      <th>0</th>\n",
       "      <td>BT-01</td>\n",
       "      <td>3rd Ave &amp; Broad St</td>\n",
       "      <td>47.618418</td>\n",
       "      <td>-122.350964</td>\n",
       "      <td>18</td>\n",
       "      <td>680</td>\n",
       "      <td>2014-10-13</td>\n",
       "    </tr>\n",
       "    <tr>\n",
       "      <th>1</th>\n",
       "      <td>BT-01</td>\n",
       "      <td>3rd Ave &amp; Broad St</td>\n",
       "      <td>47.618418</td>\n",
       "      <td>-122.350964</td>\n",
       "      <td>18</td>\n",
       "      <td>692</td>\n",
       "      <td>2014-10-13</td>\n",
       "    </tr>\n",
       "    <tr>\n",
       "      <th>2</th>\n",
       "      <td>BT-01</td>\n",
       "      <td>3rd Ave &amp; Broad St</td>\n",
       "      <td>47.618418</td>\n",
       "      <td>-122.350964</td>\n",
       "      <td>18</td>\n",
       "      <td>693</td>\n",
       "      <td>2014-10-13</td>\n",
       "    </tr>\n",
       "    <tr>\n",
       "      <th>3</th>\n",
       "      <td>BT-01</td>\n",
       "      <td>3rd Ave &amp; Broad St</td>\n",
       "      <td>47.618418</td>\n",
       "      <td>-122.350964</td>\n",
       "      <td>18</td>\n",
       "      <td>753</td>\n",
       "      <td>2014-10-13</td>\n",
       "    </tr>\n",
       "    <tr>\n",
       "      <th>4</th>\n",
       "      <td>BT-01</td>\n",
       "      <td>3rd Ave &amp; Broad St</td>\n",
       "      <td>47.618418</td>\n",
       "      <td>-122.350964</td>\n",
       "      <td>18</td>\n",
       "      <td>754</td>\n",
       "      <td>2014-10-13</td>\n",
       "    </tr>\n",
       "  </tbody>\n",
       "</table>\n",
       "</div>"
      ],
      "text/plain": [
       "  station_id                name        lat        long  current_dockcount  \\\n",
       "0      BT-01  3rd Ave & Broad St  47.618418 -122.350964                 18   \n",
       "1      BT-01  3rd Ave & Broad St  47.618418 -122.350964                 18   \n",
       "2      BT-01  3rd Ave & Broad St  47.618418 -122.350964                 18   \n",
       "3      BT-01  3rd Ave & Broad St  47.618418 -122.350964                 18   \n",
       "4      BT-01  3rd Ave & Broad St  47.618418 -122.350964                 18   \n",
       "\n",
       "   trip_id       Date  \n",
       "0      680 2014-10-13  \n",
       "1      692 2014-10-13  \n",
       "2      693 2014-10-13  \n",
       "3      753 2014-10-13  \n",
       "4      754 2014-10-13  "
      ]
     },
     "execution_count": 438,
     "metadata": {},
     "output_type": "execute_result"
    }
   ],
   "source": [
    "df_merge_1 = pd.merge(left=stations, right=trips, left_on='station_id', right_on='from_station_id')\n",
    "df_merge_1 = df_merge_1.drop(['from_station_name','from_station_id'], axis=1).rename(columns={'start_date':'Date'})\n",
    "df_merge_1.head()"
   ]
  },
  {
   "cell_type": "code",
   "execution_count": 439,
   "id": "f9237cfe",
   "metadata": {},
   "outputs": [
    {
     "data": {
      "text/html": [
       "<div>\n",
       "<style scoped>\n",
       "    .dataframe tbody tr th:only-of-type {\n",
       "        vertical-align: middle;\n",
       "    }\n",
       "\n",
       "    .dataframe tbody tr th {\n",
       "        vertical-align: top;\n",
       "    }\n",
       "\n",
       "    .dataframe thead th {\n",
       "        text-align: right;\n",
       "    }\n",
       "</style>\n",
       "<table border=\"1\" class=\"dataframe\">\n",
       "  <thead>\n",
       "    <tr style=\"text-align: right;\">\n",
       "      <th></th>\n",
       "      <th>Month</th>\n",
       "      <th>trip_count</th>\n",
       "    </tr>\n",
       "  </thead>\n",
       "  <tbody>\n",
       "    <tr>\n",
       "      <th>0</th>\n",
       "      <td>January</td>\n",
       "      <td>17669</td>\n",
       "    </tr>\n",
       "    <tr>\n",
       "      <th>1</th>\n",
       "      <td>February</td>\n",
       "      <td>17548</td>\n",
       "    </tr>\n",
       "    <tr>\n",
       "      <th>2</th>\n",
       "      <td>March</td>\n",
       "      <td>22654</td>\n",
       "    </tr>\n",
       "    <tr>\n",
       "      <th>3</th>\n",
       "      <td>April</td>\n",
       "      <td>24995</td>\n",
       "    </tr>\n",
       "    <tr>\n",
       "      <th>4</th>\n",
       "      <td>May</td>\n",
       "      <td>25244</td>\n",
       "    </tr>\n",
       "    <tr>\n",
       "      <th>5</th>\n",
       "      <td>June</td>\n",
       "      <td>26663</td>\n",
       "    </tr>\n",
       "    <tr>\n",
       "      <th>6</th>\n",
       "      <td>July</td>\n",
       "      <td>31477</td>\n",
       "    </tr>\n",
       "    <tr>\n",
       "      <th>7</th>\n",
       "      <td>August</td>\n",
       "      <td>29655</td>\n",
       "    </tr>\n",
       "    <tr>\n",
       "      <th>8</th>\n",
       "      <td>September</td>\n",
       "      <td>12673</td>\n",
       "    </tr>\n",
       "    <tr>\n",
       "      <th>9</th>\n",
       "      <td>October</td>\n",
       "      <td>16541</td>\n",
       "    </tr>\n",
       "    <tr>\n",
       "      <th>10</th>\n",
       "      <td>November</td>\n",
       "      <td>13767</td>\n",
       "    </tr>\n",
       "    <tr>\n",
       "      <th>11</th>\n",
       "      <td>December</td>\n",
       "      <td>14332</td>\n",
       "    </tr>\n",
       "  </tbody>\n",
       "</table>\n",
       "</div>"
      ],
      "text/plain": [
       "        Month  trip_count\n",
       "0     January       17669\n",
       "1    February       17548\n",
       "2       March       22654\n",
       "3       April       24995\n",
       "4         May       25244\n",
       "5        June       26663\n",
       "6        July       31477\n",
       "7      August       29655\n",
       "8   September       12673\n",
       "9     October       16541\n",
       "10   November       13767\n",
       "11   December       14332"
      ]
     },
     "execution_count": 439,
     "metadata": {},
     "output_type": "execute_result"
    }
   ],
   "source": [
    "df_merge_1['Month'] = df_merge_1['Date'].dt.month_name()\n",
    "month_order = ['January', 'February', 'March', 'April', 'May', 'June', 'July', 'August', 'September', 'October', 'November', 'December']\n",
    "df_merge_1[['Month','trip_id']].groupby(['Month']).count().sort_values(by='Month', key=lambda x: pd.Categorical(x, categories=month_order, ordered=True)).reset_index().rename(columns={'trip_id': 'trip_count'})\n"
   ]
  },
  {
   "cell_type": "code",
   "execution_count": 440,
   "id": "dfa51164",
   "metadata": {},
   "outputs": [
    {
     "data": {
      "image/png": "[encoded data removed]",
      "text/plain": [
       "<Figure size 600x300 with 1 Axes>"
      ]
     },
     "metadata": {},
     "output_type": "display_data"
    }
   ],
   "source": [
    "# Group by date and count the number of occurrences of 'trip_id'\n",
    "count_per_month = df_merge_1[['Month','trip_id']].groupby(['Month']).count().sort_values(by='Month', key=lambda x: pd.Categorical(x, categories=month_order, ordered=True)).reset_index()\n",
    "\n",
    "# Plotting the time series\n",
    "plt.figure(figsize=(6, 3))\n",
    "plt.plot(count_per_month['Month'], count_per_month['trip_id'], marker='o', linestyle='-')\n",
    "\n",
    "# Adding labels and title\n",
    "plt.xlabel('Month')\n",
    "plt.ylabel('Number of Trips')\n",
    "plt.title('Trip Count per Month')\n",
    "\n",
    "# Rotating x-axis labels for better readability\n",
    "plt.xticks(rotation=45)\n",
    "\n",
    "plt.show()"
   ]
  },
  {
   "cell_type": "code",
   "execution_count": 441,
   "id": "9307fe4f",
   "metadata": {},
   "outputs": [
    {
     "data": {
      "text/html": [
       "<div>\n",
       "<style scoped>\n",
       "    .dataframe tbody tr th:only-of-type {\n",
       "        vertical-align: middle;\n",
       "    }\n",
       "\n",
       "    .dataframe tbody tr th {\n",
       "        vertical-align: top;\n",
       "    }\n",
       "\n",
       "    .dataframe thead th {\n",
       "        text-align: right;\n",
       "    }\n",
       "</style>\n",
       "<table border=\"1\" class=\"dataframe\">\n",
       "  <thead>\n",
       "    <tr style=\"text-align: right;\">\n",
       "      <th></th>\n",
       "      <th>Day_of_Week</th>\n",
       "      <th>trip_count</th>\n",
       "    </tr>\n",
       "  </thead>\n",
       "  <tbody>\n",
       "    <tr>\n",
       "      <th>0</th>\n",
       "      <td>Monday</td>\n",
       "      <td>37369</td>\n",
       "    </tr>\n",
       "    <tr>\n",
       "      <th>1</th>\n",
       "      <td>Tuesday</td>\n",
       "      <td>38210</td>\n",
       "    </tr>\n",
       "    <tr>\n",
       "      <th>2</th>\n",
       "      <td>Wednesday</td>\n",
       "      <td>38497</td>\n",
       "    </tr>\n",
       "    <tr>\n",
       "      <th>3</th>\n",
       "      <td>Thursday</td>\n",
       "      <td>39265</td>\n",
       "    </tr>\n",
       "    <tr>\n",
       "      <th>4</th>\n",
       "      <td>Friday</td>\n",
       "      <td>38813</td>\n",
       "    </tr>\n",
       "    <tr>\n",
       "      <th>5</th>\n",
       "      <td>Saturday</td>\n",
       "      <td>32847</td>\n",
       "    </tr>\n",
       "    <tr>\n",
       "      <th>6</th>\n",
       "      <td>Sunday</td>\n",
       "      <td>28217</td>\n",
       "    </tr>\n",
       "  </tbody>\n",
       "</table>\n",
       "</div>"
      ],
      "text/plain": [
       "  Day_of_Week  trip_count\n",
       "0      Monday       37369\n",
       "1     Tuesday       38210\n",
       "2   Wednesday       38497\n",
       "3    Thursday       39265\n",
       "4      Friday       38813\n",
       "5    Saturday       32847\n",
       "6      Sunday       28217"
      ]
     },
     "execution_count": 441,
     "metadata": {},
     "output_type": "execute_result"
    }
   ],
   "source": [
    "df_merge_1['Day_of_Week'] = df_merge_1['Date'].dt.day_name()\n",
    "day_order = ['Monday', 'Tuesday', 'Wednesday', 'Thursday', 'Friday', 'Saturday', 'Sunday']\n",
    "df_merge_1[['Day_of_Week','trip_id']].groupby(['Day_of_Week']).count().sort_values(by='Day_of_Week', key=lambda x: pd.Categorical(x, categories=day_order, ordered=True)).reset_index().rename(columns={'trip_id': 'trip_count'})"
   ]
  },
  {
   "cell_type": "code",
   "execution_count": 442,
   "id": "0764a97d",
   "metadata": {},
   "outputs": [
    {
     "data": {
      "image/png": "[encoded data removed]",
      "text/plain": [
       "<Figure size 600x300 with 1 Axes>"
      ]
     },
     "metadata": {},
     "output_type": "display_data"
    }
   ],
   "source": [
    "# Group by date and count the number of occurrences of 'trip_id'\n",
    "count_per_day = df_merge_1[['Day_of_Week','trip_id']].groupby(['Day_of_Week']).count().sort_values(by='Day_of_Week', key=lambda x: pd.Categorical(x, categories=day_order, ordered=True)).reset_index()\n",
    "\n",
    "# Plotting the time series\n",
    "plt.figure(figsize=(6, 3))\n",
    "plt.plot(count_per_day['Day_of_Week'], count_per_day['trip_id'], marker='o', linestyle='-')\n",
    "\n",
    "# Adding labels and title\n",
    "plt.xlabel('Day of Week')\n",
    "plt.ylabel('Number of Trips')\n",
    "plt.title('Trip Count per Day of Week')\n",
    "\n",
    "# Rotating x-axis labels for better readability\n",
    "plt.xticks(rotation=45)\n",
    "\n",
    "plt.show()"
   ]
  },
  {
   "cell_type": "markdown",
   "id": "cdf59a8d",
   "metadata": {},
   "source": [
    "## Weather\n",
    "#### import weather. change to datetime, try to impute missing gust speed values and fill nans in Events"
   ]
  },
  {
   "cell_type": "code",
   "execution_count": 443,
   "id": "76d3f205",
   "metadata": {},
   "outputs": [
    {
     "data": {
      "text/html": [
       "<div>\n",
       "<style scoped>\n",
       "    .dataframe tbody tr th:only-of-type {\n",
       "        vertical-align: middle;\n",
       "    }\n",
       "\n",
       "    .dataframe tbody tr th {\n",
       "        vertical-align: top;\n",
       "    }\n",
       "\n",
       "    .dataframe thead th {\n",
       "        text-align: right;\n",
       "    }\n",
       "</style>\n",
       "<table border=\"1\" class=\"dataframe\">\n",
       "  <thead>\n",
       "    <tr style=\"text-align: right;\">\n",
       "      <th></th>\n",
       "      <th>Date</th>\n",
       "      <th>Max_Temperature_F</th>\n",
       "      <th>Mean_Temperature_F</th>\n",
       "      <th>Min_TemperatureF</th>\n",
       "      <th>Max_Dew_Point_F</th>\n",
       "      <th>MeanDew_Point_F</th>\n",
       "      <th>Min_Dewpoint_F</th>\n",
       "      <th>Max_Humidity</th>\n",
       "      <th>Mean_Humidity</th>\n",
       "      <th>Min_Humidity</th>\n",
       "      <th>Max_Sea_Level_Pressure_In</th>\n",
       "      <th>Mean_Sea_Level_Pressure_In</th>\n",
       "      <th>Min_Sea_Level_Pressure_In</th>\n",
       "      <th>Max_Visibility_Miles</th>\n",
       "      <th>Mean_Visibility_Miles</th>\n",
       "      <th>Min_Visibility_Miles</th>\n",
       "      <th>Max_Wind_Speed_MPH</th>\n",
       "      <th>Mean_Wind_Speed_MPH</th>\n",
       "      <th>Max_Gust_Speed_MPH</th>\n",
       "      <th>Precipitation_In</th>\n",
       "      <th>Events</th>\n",
       "    </tr>\n",
       "  </thead>\n",
       "  <tbody>\n",
       "    <tr>\n",
       "      <th>0</th>\n",
       "      <td>10/13/2014</td>\n",
       "      <td>71</td>\n",
       "      <td>62.0</td>\n",
       "      <td>54</td>\n",
       "      <td>55</td>\n",
       "      <td>51</td>\n",
       "      <td>46</td>\n",
       "      <td>87</td>\n",
       "      <td>68</td>\n",
       "      <td>46</td>\n",
       "      <td>30.03</td>\n",
       "      <td>29.79</td>\n",
       "      <td>29.65</td>\n",
       "      <td>10</td>\n",
       "      <td>10</td>\n",
       "      <td>4</td>\n",
       "      <td>13</td>\n",
       "      <td>4</td>\n",
       "      <td>21</td>\n",
       "      <td>0.00</td>\n",
       "      <td>Rain</td>\n",
       "    </tr>\n",
       "    <tr>\n",
       "      <th>1</th>\n",
       "      <td>10/14/2014</td>\n",
       "      <td>63</td>\n",
       "      <td>59.0</td>\n",
       "      <td>55</td>\n",
       "      <td>52</td>\n",
       "      <td>51</td>\n",
       "      <td>50</td>\n",
       "      <td>88</td>\n",
       "      <td>78</td>\n",
       "      <td>63</td>\n",
       "      <td>29.84</td>\n",
       "      <td>29.75</td>\n",
       "      <td>29.54</td>\n",
       "      <td>10</td>\n",
       "      <td>9</td>\n",
       "      <td>3</td>\n",
       "      <td>10</td>\n",
       "      <td>5</td>\n",
       "      <td>17</td>\n",
       "      <td>0.11</td>\n",
       "      <td>Rain</td>\n",
       "    </tr>\n",
       "    <tr>\n",
       "      <th>2</th>\n",
       "      <td>10/15/2014</td>\n",
       "      <td>62</td>\n",
       "      <td>58.0</td>\n",
       "      <td>54</td>\n",
       "      <td>53</td>\n",
       "      <td>50</td>\n",
       "      <td>46</td>\n",
       "      <td>87</td>\n",
       "      <td>77</td>\n",
       "      <td>67</td>\n",
       "      <td>29.98</td>\n",
       "      <td>29.71</td>\n",
       "      <td>29.51</td>\n",
       "      <td>10</td>\n",
       "      <td>9</td>\n",
       "      <td>3</td>\n",
       "      <td>18</td>\n",
       "      <td>7</td>\n",
       "      <td>25</td>\n",
       "      <td>0.45</td>\n",
       "      <td>Rain</td>\n",
       "    </tr>\n",
       "    <tr>\n",
       "      <th>3</th>\n",
       "      <td>10/16/2014</td>\n",
       "      <td>71</td>\n",
       "      <td>61.0</td>\n",
       "      <td>52</td>\n",
       "      <td>49</td>\n",
       "      <td>46</td>\n",
       "      <td>42</td>\n",
       "      <td>83</td>\n",
       "      <td>61</td>\n",
       "      <td>36</td>\n",
       "      <td>30.03</td>\n",
       "      <td>29.95</td>\n",
       "      <td>29.81</td>\n",
       "      <td>10</td>\n",
       "      <td>10</td>\n",
       "      <td>10</td>\n",
       "      <td>9</td>\n",
       "      <td>4</td>\n",
       "      <td>-</td>\n",
       "      <td>0.00</td>\n",
       "      <td>Rain</td>\n",
       "    </tr>\n",
       "    <tr>\n",
       "      <th>4</th>\n",
       "      <td>10/17/2014</td>\n",
       "      <td>64</td>\n",
       "      <td>60.0</td>\n",
       "      <td>57</td>\n",
       "      <td>55</td>\n",
       "      <td>51</td>\n",
       "      <td>41</td>\n",
       "      <td>87</td>\n",
       "      <td>72</td>\n",
       "      <td>46</td>\n",
       "      <td>29.83</td>\n",
       "      <td>29.78</td>\n",
       "      <td>29.73</td>\n",
       "      <td>10</td>\n",
       "      <td>10</td>\n",
       "      <td>6</td>\n",
       "      <td>8</td>\n",
       "      <td>3</td>\n",
       "      <td>-</td>\n",
       "      <td>0.14</td>\n",
       "      <td>Rain</td>\n",
       "    </tr>\n",
       "    <tr>\n",
       "      <th>5</th>\n",
       "      <td>10/18/2014</td>\n",
       "      <td>68</td>\n",
       "      <td>64.0</td>\n",
       "      <td>59</td>\n",
       "      <td>59</td>\n",
       "      <td>57</td>\n",
       "      <td>55</td>\n",
       "      <td>90</td>\n",
       "      <td>83</td>\n",
       "      <td>68</td>\n",
       "      <td>29.96</td>\n",
       "      <td>29.90</td>\n",
       "      <td>29.80</td>\n",
       "      <td>10</td>\n",
       "      <td>8</td>\n",
       "      <td>2</td>\n",
       "      <td>10</td>\n",
       "      <td>4</td>\n",
       "      <td>-</td>\n",
       "      <td>0.31</td>\n",
       "      <td>Rain</td>\n",
       "    </tr>\n",
       "    <tr>\n",
       "      <th>6</th>\n",
       "      <td>10/19/2014</td>\n",
       "      <td>73</td>\n",
       "      <td>64.0</td>\n",
       "      <td>55</td>\n",
       "      <td>57</td>\n",
       "      <td>55</td>\n",
       "      <td>53</td>\n",
       "      <td>94</td>\n",
       "      <td>74</td>\n",
       "      <td>52</td>\n",
       "      <td>29.80</td>\n",
       "      <td>29.73</td>\n",
       "      <td>29.67</td>\n",
       "      <td>10</td>\n",
       "      <td>10</td>\n",
       "      <td>6</td>\n",
       "      <td>10</td>\n",
       "      <td>3</td>\n",
       "      <td>18</td>\n",
       "      <td>0.00</td>\n",
       "      <td>NaN</td>\n",
       "    </tr>\n",
       "  </tbody>\n",
       "</table>\n",
       "</div>"
      ],
      "text/plain": [
       "         Date  Max_Temperature_F  Mean_Temperature_F  Min_TemperatureF  \\\n",
       "0  10/13/2014                 71                62.0                54   \n",
       "1  10/14/2014                 63                59.0                55   \n",
       "2  10/15/2014                 62                58.0                54   \n",
       "3  10/16/2014                 71                61.0                52   \n",
       "4  10/17/2014                 64                60.0                57   \n",
       "5  10/18/2014                 68                64.0                59   \n",
       "6  10/19/2014                 73                64.0                55   \n",
       "\n",
       "   Max_Dew_Point_F  MeanDew_Point_F  Min_Dewpoint_F  Max_Humidity  \\\n",
       "0               55               51              46            87   \n",
       "1               52               51              50            88   \n",
       "2               53               50              46            87   \n",
       "3               49               46              42            83   \n",
       "4               55               51              41            87   \n",
       "5               59               57              55            90   \n",
       "6               57               55              53            94   \n",
       "\n",
       "   Mean_Humidity  Min_Humidity  Max_Sea_Level_Pressure_In  \\\n",
       "0             68            46                      30.03   \n",
       "1             78            63                      29.84   \n",
       "2             77            67                      29.98   \n",
       "3             61            36                      30.03   \n",
       "4             72            46                      29.83   \n",
       "5             83            68                      29.96   \n",
       "6             74            52                      29.80   \n",
       "\n",
       "   Mean_Sea_Level_Pressure_In  Min_Sea_Level_Pressure_In  \\\n",
       "0                       29.79                      29.65   \n",
       "1                       29.75                      29.54   \n",
       "2                       29.71                      29.51   \n",
       "3                       29.95                      29.81   \n",
       "4                       29.78                      29.73   \n",
       "5                       29.90                      29.80   \n",
       "6                       29.73                      29.67   \n",
       "\n",
       "   Max_Visibility_Miles  Mean_Visibility_Miles  Min_Visibility_Miles  \\\n",
       "0                    10                     10                     4   \n",
       "1                    10                      9                     3   \n",
       "2                    10                      9                     3   \n",
       "3                    10                     10                    10   \n",
       "4                    10                     10                     6   \n",
       "5                    10                      8                     2   \n",
       "6                    10                     10                     6   \n",
       "\n",
       "   Max_Wind_Speed_MPH  Mean_Wind_Speed_MPH Max_Gust_Speed_MPH  \\\n",
       "0                  13                    4                 21   \n",
       "1                  10                    5                 17   \n",
       "2                  18                    7                 25   \n",
       "3                   9                    4                  -   \n",
       "4                   8                    3                  -   \n",
       "5                  10                    4                  -   \n",
       "6                  10                    3                 18   \n",
       "\n",
       "   Precipitation_In Events  \n",
       "0              0.00   Rain  \n",
       "1              0.11   Rain  \n",
       "2              0.45   Rain  \n",
       "3              0.00   Rain  \n",
       "4              0.14   Rain  \n",
       "5              0.31   Rain  \n",
       "6              0.00    NaN  "
      ]
     },
     "execution_count": 443,
     "metadata": {},
     "output_type": "execute_result"
    }
   ],
   "source": [
    "pd.set_option('display.max_columns', 100)\n",
    "weather = pd.read_csv('data/Seattle_weather_daily.csv')\n",
    "weather.head(7)"
   ]
  },
  {
   "cell_type": "code",
   "execution_count": 444,
   "id": "ccde5617",
   "metadata": {},
   "outputs": [
    {
     "name": "stdout",
     "output_type": "stream",
     "text": [
      "<class 'pandas.core.frame.DataFrame'>\n",
      "RangeIndex: 689 entries, 0 to 688\n",
      "Data columns (total 21 columns):\n",
      " #   Column                      Non-Null Count  Dtype  \n",
      "---  ------                      --------------  -----  \n",
      " 0   Date                        689 non-null    object \n",
      " 1   Max_Temperature_F           689 non-null    int64  \n",
      " 2   Mean_Temperature_F          688 non-null    float64\n",
      " 3   Min_TemperatureF            689 non-null    int64  \n",
      " 4   Max_Dew_Point_F             689 non-null    int64  \n",
      " 5   MeanDew_Point_F             689 non-null    int64  \n",
      " 6   Min_Dewpoint_F              689 non-null    int64  \n",
      " 7   Max_Humidity                689 non-null    int64  \n",
      " 8   Mean_Humidity               689 non-null    int64  \n",
      " 9   Min_Humidity                689 non-null    int64  \n",
      " 10  Max_Sea_Level_Pressure_In   689 non-null    float64\n",
      " 11  Mean_Sea_Level_Pressure_In  689 non-null    float64\n",
      " 12  Min_Sea_Level_Pressure_In   689 non-null    float64\n",
      " 13  Max_Visibility_Miles        689 non-null    int64  \n",
      " 14  Mean_Visibility_Miles       689 non-null    int64  \n",
      " 15  Min_Visibility_Miles        689 non-null    int64  \n",
      " 16  Max_Wind_Speed_MPH          689 non-null    int64  \n",
      " 17  Mean_Wind_Speed_MPH         689 non-null    int64  \n",
      " 18  Max_Gust_Speed_MPH          504 non-null    object \n",
      " 19  Precipitation_In            689 non-null    float64\n",
      " 20  Events                      328 non-null    object \n",
      "dtypes: float64(5), int64(13), object(3)\n",
      "memory usage: 113.2+ KB\n"
     ]
    }
   ],
   "source": [
    "weather.info()"
   ]
  },
  {
   "cell_type": "code",
   "execution_count": 445,
   "id": "0d960be5",
   "metadata": {},
   "outputs": [],
   "source": [
    "weather['Events'] = weather['Events'].replace({'Rain-Thunderstorm':'Rain , Thunderstorm', 'Fog-Rain': 'Fog , Rain', 'Rain-Snow': 'Rain , Snow'})"
   ]
  },
  {
   "cell_type": "code",
   "execution_count": 446,
   "id": "ad3fc763",
   "metadata": {},
   "outputs": [],
   "source": [
    "weather['Events'] = weather['Events'].fillna('Clear')\n"
   ]
  },
  {
   "cell_type": "code",
   "execution_count": 447,
   "id": "a5d11fc8",
   "metadata": {},
   "outputs": [
    {
     "data": {
      "text/html": [
       "<div>\n",
       "<style scoped>\n",
       "    .dataframe tbody tr th:only-of-type {\n",
       "        vertical-align: middle;\n",
       "    }\n",
       "\n",
       "    .dataframe tbody tr th {\n",
       "        vertical-align: top;\n",
       "    }\n",
       "\n",
       "    .dataframe thead th {\n",
       "        text-align: right;\n",
       "    }\n",
       "</style>\n",
       "<table border=\"1\" class=\"dataframe\">\n",
       "  <thead>\n",
       "    <tr style=\"text-align: right;\">\n",
       "      <th></th>\n",
       "      <th>Date</th>\n",
       "      <th>Max_Temperature_F</th>\n",
       "      <th>Mean_Temperature_F</th>\n",
       "      <th>Min_TemperatureF</th>\n",
       "      <th>Max_Dew_Point_F</th>\n",
       "      <th>MeanDew_Point_F</th>\n",
       "      <th>Min_Dewpoint_F</th>\n",
       "      <th>Max_Humidity</th>\n",
       "      <th>Mean_Humidity</th>\n",
       "      <th>Min_Humidity</th>\n",
       "      <th>Max_Sea_Level_Pressure_In</th>\n",
       "      <th>Mean_Sea_Level_Pressure_In</th>\n",
       "      <th>Min_Sea_Level_Pressure_In</th>\n",
       "      <th>Max_Visibility_Miles</th>\n",
       "      <th>Mean_Visibility_Miles</th>\n",
       "      <th>Min_Visibility_Miles</th>\n",
       "      <th>Max_Wind_Speed_MPH</th>\n",
       "      <th>Mean_Wind_Speed_MPH</th>\n",
       "      <th>Max_Gust_Speed_MPH</th>\n",
       "      <th>Precipitation_In</th>\n",
       "      <th>Events</th>\n",
       "    </tr>\n",
       "  </thead>\n",
       "  <tbody>\n",
       "    <tr>\n",
       "      <th>489</th>\n",
       "      <td>2/14/2016</td>\n",
       "      <td>55</td>\n",
       "      <td>NaN</td>\n",
       "      <td>55</td>\n",
       "      <td>50</td>\n",
       "      <td>50</td>\n",
       "      <td>50</td>\n",
       "      <td>82</td>\n",
       "      <td>82</td>\n",
       "      <td>82</td>\n",
       "      <td>30.12</td>\n",
       "      <td>30.12</td>\n",
       "      <td>30.12</td>\n",
       "      <td>10</td>\n",
       "      <td>10</td>\n",
       "      <td>10</td>\n",
       "      <td>23</td>\n",
       "      <td>23</td>\n",
       "      <td>NaN</td>\n",
       "      <td>0.0</td>\n",
       "      <td>Clear</td>\n",
       "    </tr>\n",
       "  </tbody>\n",
       "</table>\n",
       "</div>"
      ],
      "text/plain": [
       "          Date  Max_Temperature_F  Mean_Temperature_F  Min_TemperatureF  \\\n",
       "489  2/14/2016                 55                 NaN                55   \n",
       "\n",
       "     Max_Dew_Point_F  MeanDew_Point_F  Min_Dewpoint_F  Max_Humidity  \\\n",
       "489               50               50              50            82   \n",
       "\n",
       "     Mean_Humidity  Min_Humidity  Max_Sea_Level_Pressure_In  \\\n",
       "489             82            82                      30.12   \n",
       "\n",
       "     Mean_Sea_Level_Pressure_In  Min_Sea_Level_Pressure_In  \\\n",
       "489                       30.12                      30.12   \n",
       "\n",
       "     Max_Visibility_Miles  Mean_Visibility_Miles  Min_Visibility_Miles  \\\n",
       "489                    10                     10                    10   \n",
       "\n",
       "     Max_Wind_Speed_MPH  Mean_Wind_Speed_MPH Max_Gust_Speed_MPH  \\\n",
       "489                  23                   23                NaN   \n",
       "\n",
       "     Precipitation_In Events  \n",
       "489               0.0  Clear  "
      ]
     },
     "execution_count": 447,
     "metadata": {},
     "output_type": "execute_result"
    }
   ],
   "source": [
    "weather[weather['Mean_Temperature_F'].isna()]"
   ]
  },
  {
   "cell_type": "code",
   "execution_count": 448,
   "id": "b6735f73",
   "metadata": {},
   "outputs": [],
   "source": [
    "weather['Mean_Temperature_F'] = weather['Mean_Temperature_F'].fillna(55.0)"
   ]
  },
  {
   "cell_type": "code",
   "execution_count": 449,
   "id": "2f9e5296",
   "metadata": {},
   "outputs": [],
   "source": [
    "weather['Date'] = pd.to_datetime(weather['Date'])"
   ]
  },
  {
   "cell_type": "code",
   "execution_count": 450,
   "id": "4fe8b28f",
   "metadata": {},
   "outputs": [
    {
     "name": "stdout",
     "output_type": "stream",
     "text": [
      "<class 'pandas.core.frame.DataFrame'>\n",
      "RangeIndex: 689 entries, 0 to 688\n",
      "Data columns (total 21 columns):\n",
      " #   Column                      Non-Null Count  Dtype         \n",
      "---  ------                      --------------  -----         \n",
      " 0   Date                        689 non-null    datetime64[ns]\n",
      " 1   Max_Temperature_F           689 non-null    int64         \n",
      " 2   Mean_Temperature_F          689 non-null    float64       \n",
      " 3   Min_TemperatureF            689 non-null    int64         \n",
      " 4   Max_Dew_Point_F             689 non-null    int64         \n",
      " 5   MeanDew_Point_F             689 non-null    int64         \n",
      " 6   Min_Dewpoint_F              689 non-null    int64         \n",
      " 7   Max_Humidity                689 non-null    int64         \n",
      " 8   Mean_Humidity               689 non-null    int64         \n",
      " 9   Min_Humidity                689 non-null    int64         \n",
      " 10  Max_Sea_Level_Pressure_In   689 non-null    float64       \n",
      " 11  Mean_Sea_Level_Pressure_In  689 non-null    float64       \n",
      " 12  Min_Sea_Level_Pressure_In   689 non-null    float64       \n",
      " 13  Max_Visibility_Miles        689 non-null    int64         \n",
      " 14  Mean_Visibility_Miles       689 non-null    int64         \n",
      " 15  Min_Visibility_Miles        689 non-null    int64         \n",
      " 16  Max_Wind_Speed_MPH          689 non-null    int64         \n",
      " 17  Mean_Wind_Speed_MPH         689 non-null    int64         \n",
      " 18  Max_Gust_Speed_MPH          504 non-null    object        \n",
      " 19  Precipitation_In            689 non-null    float64       \n",
      " 20  Events                      689 non-null    object        \n",
      "dtypes: datetime64[ns](1), float64(5), int64(13), object(2)\n",
      "memory usage: 113.2+ KB\n"
     ]
    }
   ],
   "source": [
    "weather.info()"
   ]
  },
  {
   "cell_type": "markdown",
   "id": "37937ed3",
   "metadata": {},
   "source": [
    "### impute missing values in gust_speed col using IterativeImputer"
   ]
  },
  {
   "cell_type": "code",
   "execution_count": 451,
   "id": "ffa19ac9",
   "metadata": {},
   "outputs": [],
   "source": [
    "from sklearn.experimental import enable_iterative_imputer\n",
    "from sklearn.impute import IterativeImputer"
   ]
  },
  {
   "cell_type": "code",
   "execution_count": 452,
   "id": "9b8cd3aa",
   "metadata": {},
   "outputs": [],
   "source": [
    "df = weather.drop(['Events','Date'], axis=1)"
   ]
  },
  {
   "cell_type": "code",
   "execution_count": 453,
   "id": "aba0ea9f",
   "metadata": {},
   "outputs": [
    {
     "data": {
      "text/plain": [
       "array(['21', '17', '25', '-', '18', '22', '41', '30', '24', '20', '37',\n",
       "       '16', '33', '28', '29', '32', '26', '38', '46', '23', '31', '36',\n",
       "       '34', '39', nan, '52'], dtype=object)"
      ]
     },
     "execution_count": 453,
     "metadata": {},
     "output_type": "execute_result"
    }
   ],
   "source": [
    "df['Max_Gust_Speed_MPH'].unique()"
   ]
  },
  {
   "cell_type": "code",
   "execution_count": 454,
   "id": "fa47cd21",
   "metadata": {},
   "outputs": [],
   "source": [
    "df['Max_Gust_Speed_MPH'] = df['Max_Gust_Speed_MPH'].replace({'-':None})"
   ]
  },
  {
   "cell_type": "code",
   "execution_count": 455,
   "id": "9b67a027",
   "metadata": {},
   "outputs": [
    {
     "data": {
      "text/plain": [
       "array(['21', '17', '25', None, '18', '22', '41', '30', '24', '20', '37',\n",
       "       '16', '33', '28', '29', '32', '26', '38', '46', '23', '31', '36',\n",
       "       '34', '39', nan, '52'], dtype=object)"
      ]
     },
     "execution_count": 455,
     "metadata": {},
     "output_type": "execute_result"
    }
   ],
   "source": [
    "df['Max_Gust_Speed_MPH'].unique()"
   ]
  },
  {
   "cell_type": "code",
   "execution_count": 456,
   "id": "a4b489b2",
   "metadata": {},
   "outputs": [],
   "source": [
    "df['Max_Gust_Speed_MPH'] = df['Max_Gust_Speed_MPH'].astype(float)"
   ]
  },
  {
   "cell_type": "code",
   "execution_count": 457,
   "id": "5898108a",
   "metadata": {},
   "outputs": [
    {
     "data": {
      "text/html": [
       "<div>\n",
       "<style scoped>\n",
       "    .dataframe tbody tr th:only-of-type {\n",
       "        vertical-align: middle;\n",
       "    }\n",
       "\n",
       "    .dataframe tbody tr th {\n",
       "        vertical-align: top;\n",
       "    }\n",
       "\n",
       "    .dataframe thead th {\n",
       "        text-align: right;\n",
       "    }\n",
       "</style>\n",
       "<table border=\"1\" class=\"dataframe\">\n",
       "  <thead>\n",
       "    <tr style=\"text-align: right;\">\n",
       "      <th></th>\n",
       "      <th>Max_Temperature_F</th>\n",
       "      <th>Mean_Temperature_F</th>\n",
       "      <th>Min_TemperatureF</th>\n",
       "      <th>Max_Dew_Point_F</th>\n",
       "      <th>MeanDew_Point_F</th>\n",
       "      <th>Min_Dewpoint_F</th>\n",
       "      <th>Max_Humidity</th>\n",
       "      <th>Mean_Humidity</th>\n",
       "      <th>Min_Humidity</th>\n",
       "      <th>Max_Sea_Level_Pressure_In</th>\n",
       "      <th>Mean_Sea_Level_Pressure_In</th>\n",
       "      <th>Min_Sea_Level_Pressure_In</th>\n",
       "      <th>Max_Visibility_Miles</th>\n",
       "      <th>Mean_Visibility_Miles</th>\n",
       "      <th>Min_Visibility_Miles</th>\n",
       "      <th>Max_Wind_Speed_MPH</th>\n",
       "      <th>Mean_Wind_Speed_MPH</th>\n",
       "      <th>Max_Gust_Speed_MPH</th>\n",
       "      <th>Precipitation_In</th>\n",
       "    </tr>\n",
       "  </thead>\n",
       "  <tbody>\n",
       "    <tr>\n",
       "      <th>0</th>\n",
       "      <td>71</td>\n",
       "      <td>62.0</td>\n",
       "      <td>54</td>\n",
       "      <td>55</td>\n",
       "      <td>51</td>\n",
       "      <td>46</td>\n",
       "      <td>87</td>\n",
       "      <td>68</td>\n",
       "      <td>46</td>\n",
       "      <td>30.03</td>\n",
       "      <td>29.79</td>\n",
       "      <td>29.65</td>\n",
       "      <td>10</td>\n",
       "      <td>10</td>\n",
       "      <td>4</td>\n",
       "      <td>13</td>\n",
       "      <td>4</td>\n",
       "      <td>21.0</td>\n",
       "      <td>0.00</td>\n",
       "    </tr>\n",
       "    <tr>\n",
       "      <th>1</th>\n",
       "      <td>63</td>\n",
       "      <td>59.0</td>\n",
       "      <td>55</td>\n",
       "      <td>52</td>\n",
       "      <td>51</td>\n",
       "      <td>50</td>\n",
       "      <td>88</td>\n",
       "      <td>78</td>\n",
       "      <td>63</td>\n",
       "      <td>29.84</td>\n",
       "      <td>29.75</td>\n",
       "      <td>29.54</td>\n",
       "      <td>10</td>\n",
       "      <td>9</td>\n",
       "      <td>3</td>\n",
       "      <td>10</td>\n",
       "      <td>5</td>\n",
       "      <td>17.0</td>\n",
       "      <td>0.11</td>\n",
       "    </tr>\n",
       "    <tr>\n",
       "      <th>2</th>\n",
       "      <td>62</td>\n",
       "      <td>58.0</td>\n",
       "      <td>54</td>\n",
       "      <td>53</td>\n",
       "      <td>50</td>\n",
       "      <td>46</td>\n",
       "      <td>87</td>\n",
       "      <td>77</td>\n",
       "      <td>67</td>\n",
       "      <td>29.98</td>\n",
       "      <td>29.71</td>\n",
       "      <td>29.51</td>\n",
       "      <td>10</td>\n",
       "      <td>9</td>\n",
       "      <td>3</td>\n",
       "      <td>18</td>\n",
       "      <td>7</td>\n",
       "      <td>25.0</td>\n",
       "      <td>0.45</td>\n",
       "    </tr>\n",
       "    <tr>\n",
       "      <th>3</th>\n",
       "      <td>71</td>\n",
       "      <td>61.0</td>\n",
       "      <td>52</td>\n",
       "      <td>49</td>\n",
       "      <td>46</td>\n",
       "      <td>42</td>\n",
       "      <td>83</td>\n",
       "      <td>61</td>\n",
       "      <td>36</td>\n",
       "      <td>30.03</td>\n",
       "      <td>29.95</td>\n",
       "      <td>29.81</td>\n",
       "      <td>10</td>\n",
       "      <td>10</td>\n",
       "      <td>10</td>\n",
       "      <td>9</td>\n",
       "      <td>4</td>\n",
       "      <td>NaN</td>\n",
       "      <td>0.00</td>\n",
       "    </tr>\n",
       "    <tr>\n",
       "      <th>4</th>\n",
       "      <td>64</td>\n",
       "      <td>60.0</td>\n",
       "      <td>57</td>\n",
       "      <td>55</td>\n",
       "      <td>51</td>\n",
       "      <td>41</td>\n",
       "      <td>87</td>\n",
       "      <td>72</td>\n",
       "      <td>46</td>\n",
       "      <td>29.83</td>\n",
       "      <td>29.78</td>\n",
       "      <td>29.73</td>\n",
       "      <td>10</td>\n",
       "      <td>10</td>\n",
       "      <td>6</td>\n",
       "      <td>8</td>\n",
       "      <td>3</td>\n",
       "      <td>NaN</td>\n",
       "      <td>0.14</td>\n",
       "    </tr>\n",
       "  </tbody>\n",
       "</table>\n",
       "</div>"
      ],
      "text/plain": [
       "   Max_Temperature_F  Mean_Temperature_F  Min_TemperatureF  Max_Dew_Point_F  \\\n",
       "0                 71                62.0                54               55   \n",
       "1                 63                59.0                55               52   \n",
       "2                 62                58.0                54               53   \n",
       "3                 71                61.0                52               49   \n",
       "4                 64                60.0                57               55   \n",
       "\n",
       "   MeanDew_Point_F  Min_Dewpoint_F  Max_Humidity  Mean_Humidity  Min_Humidity  \\\n",
       "0               51              46            87             68            46   \n",
       "1               51              50            88             78            63   \n",
       "2               50              46            87             77            67   \n",
       "3               46              42            83             61            36   \n",
       "4               51              41            87             72            46   \n",
       "\n",
       "   Max_Sea_Level_Pressure_In  Mean_Sea_Level_Pressure_In  \\\n",
       "0                      30.03                       29.79   \n",
       "1                      29.84                       29.75   \n",
       "2                      29.98                       29.71   \n",
       "3                      30.03                       29.95   \n",
       "4                      29.83                       29.78   \n",
       "\n",
       "   Min_Sea_Level_Pressure_In  Max_Visibility_Miles  Mean_Visibility_Miles  \\\n",
       "0                      29.65                    10                     10   \n",
       "1                      29.54                    10                      9   \n",
       "2                      29.51                    10                      9   \n",
       "3                      29.81                    10                     10   \n",
       "4                      29.73                    10                     10   \n",
       "\n",
       "   Min_Visibility_Miles  Max_Wind_Speed_MPH  Mean_Wind_Speed_MPH  \\\n",
       "0                     4                  13                    4   \n",
       "1                     3                  10                    5   \n",
       "2                     3                  18                    7   \n",
       "3                    10                   9                    4   \n",
       "4                     6                   8                    3   \n",
       "\n",
       "   Max_Gust_Speed_MPH  Precipitation_In  \n",
       "0                21.0              0.00  \n",
       "1                17.0              0.11  \n",
       "2                25.0              0.45  \n",
       "3                 NaN              0.00  \n",
       "4                 NaN              0.14  "
      ]
     },
     "execution_count": 457,
     "metadata": {},
     "output_type": "execute_result"
    }
   ],
   "source": [
    "df.head()"
   ]
  },
  {
   "cell_type": "code",
   "execution_count": 458,
   "id": "244e4fa1",
   "metadata": {},
   "outputs": [
    {
     "data": {
      "text/plain": [
       "array([[71.        , 62.        , 54.        , ...,  4.        ,\n",
       "        21.        ,  0.        ],\n",
       "       [63.        , 59.        , 55.        , ...,  5.        ,\n",
       "        17.        ,  0.11      ],\n",
       "       [62.        , 58.        , 54.        , ...,  7.        ,\n",
       "        25.        ,  0.45      ],\n",
       "       ...,\n",
       "       [81.        , 68.        , 55.        , ...,  4.        ,\n",
       "        16.85153317,  0.        ],\n",
       "       [70.        , 64.        , 57.        , ...,  9.        ,\n",
       "        18.        ,  0.        ],\n",
       "       [71.        , 65.        , 59.        , ...,  8.        ,\n",
       "        23.46675612,  0.        ]])"
      ]
     },
     "execution_count": 458,
     "metadata": {},
     "output_type": "execute_result"
    }
   ],
   "source": [
    "it = IterativeImputer()\n",
    "it.fit_transform(df)"
   ]
  },
  {
   "cell_type": "code",
   "execution_count": 459,
   "id": "e845d39f",
   "metadata": {},
   "outputs": [],
   "source": [
    "df2 = pd.DataFrame(it.fit_transform(df))"
   ]
  },
  {
   "cell_type": "code",
   "execution_count": 460,
   "id": "bb15d6dc",
   "metadata": {},
   "outputs": [
    {
     "data": {
      "text/html": [
       "<div>\n",
       "<style scoped>\n",
       "    .dataframe tbody tr th:only-of-type {\n",
       "        vertical-align: middle;\n",
       "    }\n",
       "\n",
       "    .dataframe tbody tr th {\n",
       "        vertical-align: top;\n",
       "    }\n",
       "\n",
       "    .dataframe thead th {\n",
       "        text-align: right;\n",
       "    }\n",
       "</style>\n",
       "<table border=\"1\" class=\"dataframe\">\n",
       "  <thead>\n",
       "    <tr style=\"text-align: right;\">\n",
       "      <th></th>\n",
       "      <th>0</th>\n",
       "      <th>1</th>\n",
       "      <th>2</th>\n",
       "      <th>3</th>\n",
       "      <th>4</th>\n",
       "      <th>5</th>\n",
       "      <th>6</th>\n",
       "      <th>7</th>\n",
       "      <th>8</th>\n",
       "      <th>9</th>\n",
       "      <th>10</th>\n",
       "      <th>11</th>\n",
       "      <th>12</th>\n",
       "      <th>13</th>\n",
       "      <th>14</th>\n",
       "      <th>15</th>\n",
       "      <th>16</th>\n",
       "      <th>17</th>\n",
       "      <th>18</th>\n",
       "    </tr>\n",
       "  </thead>\n",
       "  <tbody>\n",
       "    <tr>\n",
       "      <th>0</th>\n",
       "      <td>71.0</td>\n",
       "      <td>62.0</td>\n",
       "      <td>54.0</td>\n",
       "      <td>55.0</td>\n",
       "      <td>51.0</td>\n",
       "      <td>46.0</td>\n",
       "      <td>87.0</td>\n",
       "      <td>68.0</td>\n",
       "      <td>46.0</td>\n",
       "      <td>30.03</td>\n",
       "      <td>29.79</td>\n",
       "      <td>29.65</td>\n",
       "      <td>10.0</td>\n",
       "      <td>10.0</td>\n",
       "      <td>4.0</td>\n",
       "      <td>13.0</td>\n",
       "      <td>4.0</td>\n",
       "      <td>21.000000</td>\n",
       "      <td>0.00</td>\n",
       "    </tr>\n",
       "    <tr>\n",
       "      <th>1</th>\n",
       "      <td>63.0</td>\n",
       "      <td>59.0</td>\n",
       "      <td>55.0</td>\n",
       "      <td>52.0</td>\n",
       "      <td>51.0</td>\n",
       "      <td>50.0</td>\n",
       "      <td>88.0</td>\n",
       "      <td>78.0</td>\n",
       "      <td>63.0</td>\n",
       "      <td>29.84</td>\n",
       "      <td>29.75</td>\n",
       "      <td>29.54</td>\n",
       "      <td>10.0</td>\n",
       "      <td>9.0</td>\n",
       "      <td>3.0</td>\n",
       "      <td>10.0</td>\n",
       "      <td>5.0</td>\n",
       "      <td>17.000000</td>\n",
       "      <td>0.11</td>\n",
       "    </tr>\n",
       "    <tr>\n",
       "      <th>2</th>\n",
       "      <td>62.0</td>\n",
       "      <td>58.0</td>\n",
       "      <td>54.0</td>\n",
       "      <td>53.0</td>\n",
       "      <td>50.0</td>\n",
       "      <td>46.0</td>\n",
       "      <td>87.0</td>\n",
       "      <td>77.0</td>\n",
       "      <td>67.0</td>\n",
       "      <td>29.98</td>\n",
       "      <td>29.71</td>\n",
       "      <td>29.51</td>\n",
       "      <td>10.0</td>\n",
       "      <td>9.0</td>\n",
       "      <td>3.0</td>\n",
       "      <td>18.0</td>\n",
       "      <td>7.0</td>\n",
       "      <td>25.000000</td>\n",
       "      <td>0.45</td>\n",
       "    </tr>\n",
       "    <tr>\n",
       "      <th>3</th>\n",
       "      <td>71.0</td>\n",
       "      <td>61.0</td>\n",
       "      <td>52.0</td>\n",
       "      <td>49.0</td>\n",
       "      <td>46.0</td>\n",
       "      <td>42.0</td>\n",
       "      <td>83.0</td>\n",
       "      <td>61.0</td>\n",
       "      <td>36.0</td>\n",
       "      <td>30.03</td>\n",
       "      <td>29.95</td>\n",
       "      <td>29.81</td>\n",
       "      <td>10.0</td>\n",
       "      <td>10.0</td>\n",
       "      <td>10.0</td>\n",
       "      <td>9.0</td>\n",
       "      <td>4.0</td>\n",
       "      <td>15.840354</td>\n",
       "      <td>0.00</td>\n",
       "    </tr>\n",
       "    <tr>\n",
       "      <th>4</th>\n",
       "      <td>64.0</td>\n",
       "      <td>60.0</td>\n",
       "      <td>57.0</td>\n",
       "      <td>55.0</td>\n",
       "      <td>51.0</td>\n",
       "      <td>41.0</td>\n",
       "      <td>87.0</td>\n",
       "      <td>72.0</td>\n",
       "      <td>46.0</td>\n",
       "      <td>29.83</td>\n",
       "      <td>29.78</td>\n",
       "      <td>29.73</td>\n",
       "      <td>10.0</td>\n",
       "      <td>10.0</td>\n",
       "      <td>6.0</td>\n",
       "      <td>8.0</td>\n",
       "      <td>3.0</td>\n",
       "      <td>14.273680</td>\n",
       "      <td>0.14</td>\n",
       "    </tr>\n",
       "  </tbody>\n",
       "</table>\n",
       "</div>"
      ],
      "text/plain": [
       "     0     1     2     3     4     5     6     7     8      9      10     11  \\\n",
       "0  71.0  62.0  54.0  55.0  51.0  46.0  87.0  68.0  46.0  30.03  29.79  29.65   \n",
       "1  63.0  59.0  55.0  52.0  51.0  50.0  88.0  78.0  63.0  29.84  29.75  29.54   \n",
       "2  62.0  58.0  54.0  53.0  50.0  46.0  87.0  77.0  67.0  29.98  29.71  29.51   \n",
       "3  71.0  61.0  52.0  49.0  46.0  42.0  83.0  61.0  36.0  30.03  29.95  29.81   \n",
       "4  64.0  60.0  57.0  55.0  51.0  41.0  87.0  72.0  46.0  29.83  29.78  29.73   \n",
       "\n",
       "     12    13    14    15   16         17    18  \n",
       "0  10.0  10.0   4.0  13.0  4.0  21.000000  0.00  \n",
       "1  10.0   9.0   3.0  10.0  5.0  17.000000  0.11  \n",
       "2  10.0   9.0   3.0  18.0  7.0  25.000000  0.45  \n",
       "3  10.0  10.0  10.0   9.0  4.0  15.840354  0.00  \n",
       "4  10.0  10.0   6.0   8.0  3.0  14.273680  0.14  "
      ]
     },
     "execution_count": 460,
     "metadata": {},
     "output_type": "execute_result"
    }
   ],
   "source": [
    "df2.head()"
   ]
  },
  {
   "cell_type": "code",
   "execution_count": 461,
   "id": "86749393",
   "metadata": {},
   "outputs": [],
   "source": [
    "weather['Max_Gust_Speed_MPH'] = df2[17].round(2)"
   ]
  },
  {
   "cell_type": "code",
   "execution_count": 462,
   "id": "bfa7a18e",
   "metadata": {},
   "outputs": [
    {
     "name": "stdout",
     "output_type": "stream",
     "text": [
      "<class 'pandas.core.frame.DataFrame'>\n",
      "RangeIndex: 689 entries, 0 to 688\n",
      "Data columns (total 21 columns):\n",
      " #   Column                      Non-Null Count  Dtype         \n",
      "---  ------                      --------------  -----         \n",
      " 0   Date                        689 non-null    datetime64[ns]\n",
      " 1   Max_Temperature_F           689 non-null    int64         \n",
      " 2   Mean_Temperature_F          689 non-null    float64       \n",
      " 3   Min_TemperatureF            689 non-null    int64         \n",
      " 4   Max_Dew_Point_F             689 non-null    int64         \n",
      " 5   MeanDew_Point_F             689 non-null    int64         \n",
      " 6   Min_Dewpoint_F              689 non-null    int64         \n",
      " 7   Max_Humidity                689 non-null    int64         \n",
      " 8   Mean_Humidity               689 non-null    int64         \n",
      " 9   Min_Humidity                689 non-null    int64         \n",
      " 10  Max_Sea_Level_Pressure_In   689 non-null    float64       \n",
      " 11  Mean_Sea_Level_Pressure_In  689 non-null    float64       \n",
      " 12  Min_Sea_Level_Pressure_In   689 non-null    float64       \n",
      " 13  Max_Visibility_Miles        689 non-null    int64         \n",
      " 14  Mean_Visibility_Miles       689 non-null    int64         \n",
      " 15  Min_Visibility_Miles        689 non-null    int64         \n",
      " 16  Max_Wind_Speed_MPH          689 non-null    int64         \n",
      " 17  Mean_Wind_Speed_MPH         689 non-null    int64         \n",
      " 18  Max_Gust_Speed_MPH          689 non-null    float64       \n",
      " 19  Precipitation_In            689 non-null    float64       \n",
      " 20  Events                      689 non-null    object        \n",
      "dtypes: datetime64[ns](1), float64(6), int64(13), object(1)\n",
      "memory usage: 113.2+ KB\n"
     ]
    }
   ],
   "source": [
    "weather.info()"
   ]
  },
  {
   "cell_type": "markdown",
   "id": "8e2a148b",
   "metadata": {},
   "source": [
    "## Checking for correlation in Weather data columns"
   ]
  },
  {
   "cell_type": "code",
   "execution_count": 463,
   "id": "67876afb",
   "metadata": {},
   "outputs": [
    {
     "name": "stderr",
     "output_type": "stream",
     "text": [
      "C:\\Users\\Admin\\AppData\\Local\\Temp\\ipykernel_8716\\3840240055.py:7: FutureWarning: The default value of numeric_only in DataFrame.corr is deprecated. In a future version, it will default to False. Select only valid columns or specify the value of numeric_only to silence this warning.\n",
      "  sns.heatmap(weather.corr(method='pearson'),\n"
     ]
    },
    {
     "data": {
      "image/png": "[encoded data removed]",
      "text/plain": [
       "<Figure size 1000x1000 with 2 Axes>"
      ]
     },
     "metadata": {},
     "output_type": "display_data"
    }
   ],
   "source": [
    "import seaborn as sns\n",
    "fig, ax =  plt.subplots(figsize = (10,10))\n",
    "\n",
    "# Note: there is an exercise sheet on Matplot lib which you may find useful in understanding about figures and axes\n",
    "\n",
    "# Plotting the heatmap on the axes\n",
    "sns.heatmap(weather.corr(method='pearson'), \n",
    "            annot=True, \n",
    "            linewidths=0.8,\n",
    "            cmap='coolwarm',\n",
    "            center=0.0,\n",
    "            ax=ax);"
   ]
  },
  {
   "cell_type": "code",
   "execution_count": 464,
   "id": "83bab859",
   "metadata": {},
   "outputs": [],
   "source": [
    "weather = weather[['Date','Mean_Temperature_F','Mean_Sea_Level_Pressure_In','Mean_Visibility_Miles','Mean_Wind_Speed_MPH','Precipitation_In','Events']]"
   ]
  },
  {
   "cell_type": "code",
   "execution_count": 465,
   "id": "f4281d5c",
   "metadata": {},
   "outputs": [
    {
     "name": "stderr",
     "output_type": "stream",
     "text": [
      "C:\\Users\\Admin\\AppData\\Local\\Temp\\ipykernel_8716\\4278275620.py:6: FutureWarning: The default value of numeric_only in DataFrame.corr is deprecated. In a future version, it will default to False. Select only valid columns or specify the value of numeric_only to silence this warning.\n",
      "  sns.heatmap(weather.corr(method='pearson'),\n"
     ]
    },
    {
     "data": {
      "image/png": "[encoded data removed]",
      "text/plain": [
       "<Figure size 1000x1000 with 2 Axes>"
      ]
     },
     "metadata": {},
     "output_type": "display_data"
    }
   ],
   "source": [
    "fig, ax =  plt.subplots(figsize = (10,10))\n",
    "\n",
    "# Note: there is an exercise sheet on Matplot lib which you may find useful in understanding about figures and axes\n",
    "\n",
    "# Plotting the heatmap on the axes\n",
    "sns.heatmap(weather.corr(method='pearson'), \n",
    "            annot=True, \n",
    "            linewidths=0.8,\n",
    "            cmap='coolwarm',\n",
    "            center=0.0,\n",
    "            ax=ax);"
   ]
  },
  {
   "cell_type": "code",
   "execution_count": null,
   "id": "3ba7555d",
   "metadata": {},
   "outputs": [],
   "source": []
  },
  {
   "cell_type": "code",
   "execution_count": null,
   "id": "aa2d95bc",
   "metadata": {},
   "outputs": [],
   "source": []
  },
  {
   "cell_type": "markdown",
   "id": "741d7ee6",
   "metadata": {},
   "source": [
    "### grouping the data by date and station \n",
    "- count the number of trips on each day for each station by grouping by date and by station and counting a column\n",
    "- then merge that with the original weather df that contains weather info for each day"
   ]
  },
  {
   "cell_type": "code",
   "execution_count": 466,
   "id": "eb5bdba0",
   "metadata": {},
   "outputs": [
    {
     "data": {
      "text/html": [
       "<div>\n",
       "<style scoped>\n",
       "    .dataframe tbody tr th:only-of-type {\n",
       "        vertical-align: middle;\n",
       "    }\n",
       "\n",
       "    .dataframe tbody tr th {\n",
       "        vertical-align: top;\n",
       "    }\n",
       "\n",
       "    .dataframe thead th {\n",
       "        text-align: right;\n",
       "    }\n",
       "</style>\n",
       "<table border=\"1\" class=\"dataframe\">\n",
       "  <thead>\n",
       "    <tr style=\"text-align: right;\">\n",
       "      <th></th>\n",
       "      <th>Date</th>\n",
       "      <th>name</th>\n",
       "      <th>trip_id</th>\n",
       "    </tr>\n",
       "  </thead>\n",
       "  <tbody>\n",
       "    <tr>\n",
       "      <th>0</th>\n",
       "      <td>2014-10-13</td>\n",
       "      <td>12th Ave &amp; E Denny Way</td>\n",
       "      <td>6</td>\n",
       "    </tr>\n",
       "    <tr>\n",
       "      <th>1</th>\n",
       "      <td>2014-10-13</td>\n",
       "      <td>12th Ave &amp; E Mercer St</td>\n",
       "      <td>5</td>\n",
       "    </tr>\n",
       "    <tr>\n",
       "      <th>2</th>\n",
       "      <td>2014-10-13</td>\n",
       "      <td>12th Ave &amp; NE Campus Pkwy</td>\n",
       "      <td>6</td>\n",
       "    </tr>\n",
       "    <tr>\n",
       "      <th>3</th>\n",
       "      <td>2014-10-13</td>\n",
       "      <td>15th Ave E &amp; E Thomas St</td>\n",
       "      <td>11</td>\n",
       "    </tr>\n",
       "    <tr>\n",
       "      <th>4</th>\n",
       "      <td>2014-10-13</td>\n",
       "      <td>15th Ave NE &amp; NE 40th St</td>\n",
       "      <td>3</td>\n",
       "    </tr>\n",
       "  </tbody>\n",
       "</table>\n",
       "</div>"
      ],
      "text/plain": [
       "        Date                       name  trip_id\n",
       "0 2014-10-13     12th Ave & E Denny Way        6\n",
       "1 2014-10-13     12th Ave & E Mercer St        5\n",
       "2 2014-10-13  12th Ave & NE Campus Pkwy        6\n",
       "3 2014-10-13   15th Ave E & E Thomas St       11\n",
       "4 2014-10-13   15th Ave NE & NE 40th St        3"
      ]
     },
     "execution_count": 466,
     "metadata": {},
     "output_type": "execute_result"
    }
   ],
   "source": [
    "agg_df = df_merge_1[['Date','name','trip_id']].groupby(['Date','name']).count().reset_index()\n",
    "agg_df.head()"
   ]
  },
  {
   "cell_type": "code",
   "execution_count": 467,
   "id": "6d42b570",
   "metadata": {},
   "outputs": [
    {
     "data": {
      "text/html": [
       "<div>\n",
       "<style scoped>\n",
       "    .dataframe tbody tr th:only-of-type {\n",
       "        vertical-align: middle;\n",
       "    }\n",
       "\n",
       "    .dataframe tbody tr th {\n",
       "        vertical-align: top;\n",
       "    }\n",
       "\n",
       "    .dataframe thead th {\n",
       "        text-align: right;\n",
       "    }\n",
       "</style>\n",
       "<table border=\"1\" class=\"dataframe\">\n",
       "  <thead>\n",
       "    <tr style=\"text-align: right;\">\n",
       "      <th></th>\n",
       "      <th>Date</th>\n",
       "      <th>name</th>\n",
       "      <th>trip_count</th>\n",
       "      <th>Mean_Temperature_F</th>\n",
       "      <th>Mean_Sea_Level_Pressure_In</th>\n",
       "      <th>Mean_Visibility_Miles</th>\n",
       "      <th>Mean_Wind_Speed_MPH</th>\n",
       "      <th>Precipitation_In</th>\n",
       "      <th>Events</th>\n",
       "    </tr>\n",
       "  </thead>\n",
       "  <tbody>\n",
       "    <tr>\n",
       "      <th>0</th>\n",
       "      <td>2014-10-13</td>\n",
       "      <td>12th Ave &amp; E Denny Way</td>\n",
       "      <td>6</td>\n",
       "      <td>62.0</td>\n",
       "      <td>29.79</td>\n",
       "      <td>10</td>\n",
       "      <td>4</td>\n",
       "      <td>0.0</td>\n",
       "      <td>Rain</td>\n",
       "    </tr>\n",
       "    <tr>\n",
       "      <th>1</th>\n",
       "      <td>2014-10-13</td>\n",
       "      <td>12th Ave &amp; E Mercer St</td>\n",
       "      <td>5</td>\n",
       "      <td>62.0</td>\n",
       "      <td>29.79</td>\n",
       "      <td>10</td>\n",
       "      <td>4</td>\n",
       "      <td>0.0</td>\n",
       "      <td>Rain</td>\n",
       "    </tr>\n",
       "    <tr>\n",
       "      <th>2</th>\n",
       "      <td>2014-10-13</td>\n",
       "      <td>12th Ave &amp; NE Campus Pkwy</td>\n",
       "      <td>6</td>\n",
       "      <td>62.0</td>\n",
       "      <td>29.79</td>\n",
       "      <td>10</td>\n",
       "      <td>4</td>\n",
       "      <td>0.0</td>\n",
       "      <td>Rain</td>\n",
       "    </tr>\n",
       "    <tr>\n",
       "      <th>3</th>\n",
       "      <td>2014-10-13</td>\n",
       "      <td>15th Ave E &amp; E Thomas St</td>\n",
       "      <td>11</td>\n",
       "      <td>62.0</td>\n",
       "      <td>29.79</td>\n",
       "      <td>10</td>\n",
       "      <td>4</td>\n",
       "      <td>0.0</td>\n",
       "      <td>Rain</td>\n",
       "    </tr>\n",
       "    <tr>\n",
       "      <th>4</th>\n",
       "      <td>2014-10-13</td>\n",
       "      <td>15th Ave NE &amp; NE 40th St</td>\n",
       "      <td>3</td>\n",
       "      <td>62.0</td>\n",
       "      <td>29.79</td>\n",
       "      <td>10</td>\n",
       "      <td>4</td>\n",
       "      <td>0.0</td>\n",
       "      <td>Rain</td>\n",
       "    </tr>\n",
       "  </tbody>\n",
       "</table>\n",
       "</div>"
      ],
      "text/plain": [
       "        Date                       name  trip_count  Mean_Temperature_F  \\\n",
       "0 2014-10-13     12th Ave & E Denny Way           6                62.0   \n",
       "1 2014-10-13     12th Ave & E Mercer St           5                62.0   \n",
       "2 2014-10-13  12th Ave & NE Campus Pkwy           6                62.0   \n",
       "3 2014-10-13   15th Ave E & E Thomas St          11                62.0   \n",
       "4 2014-10-13   15th Ave NE & NE 40th St           3                62.0   \n",
       "\n",
       "   Mean_Sea_Level_Pressure_In  Mean_Visibility_Miles  Mean_Wind_Speed_MPH  \\\n",
       "0                       29.79                     10                    4   \n",
       "1                       29.79                     10                    4   \n",
       "2                       29.79                     10                    4   \n",
       "3                       29.79                     10                    4   \n",
       "4                       29.79                     10                    4   \n",
       "\n",
       "   Precipitation_In Events  \n",
       "0               0.0   Rain  \n",
       "1               0.0   Rain  \n",
       "2               0.0   Rain  \n",
       "3               0.0   Rain  \n",
       "4               0.0   Rain  "
      ]
     },
     "execution_count": 467,
     "metadata": {},
     "output_type": "execute_result"
    }
   ],
   "source": [
    "agg_df = pd.merge(left=agg_df, right=weather, on='Date')\n",
    "agg_df = agg_df.rename(columns={'trip_id':'trip_count'})\n",
    "agg_df.head()"
   ]
  },
  {
   "cell_type": "code",
   "execution_count": 468,
   "id": "0943dc4f",
   "metadata": {},
   "outputs": [],
   "source": [
    "agg_df['month_year'] = agg_df['Date'].dt.to_period('M')\n",
    "agg_df['Day_of_Week'] = agg_df['Date'].dt.day_name()\n",
    "# agg_df['Month'] = agg_df['Date'].dt.month_name()"
   ]
  },
  {
   "cell_type": "code",
   "execution_count": 469,
   "id": "1c5651c1",
   "metadata": {},
   "outputs": [
    {
     "data": {
      "text/html": [
       "<div>\n",
       "<style scoped>\n",
       "    .dataframe tbody tr th:only-of-type {\n",
       "        vertical-align: middle;\n",
       "    }\n",
       "\n",
       "    .dataframe tbody tr th {\n",
       "        vertical-align: top;\n",
       "    }\n",
       "\n",
       "    .dataframe thead th {\n",
       "        text-align: right;\n",
       "    }\n",
       "</style>\n",
       "<table border=\"1\" class=\"dataframe\">\n",
       "  <thead>\n",
       "    <tr style=\"text-align: right;\">\n",
       "      <th></th>\n",
       "      <th>Date</th>\n",
       "      <th>name</th>\n",
       "      <th>trip_count</th>\n",
       "      <th>Mean_Temperature_F</th>\n",
       "      <th>Mean_Sea_Level_Pressure_In</th>\n",
       "      <th>Mean_Visibility_Miles</th>\n",
       "      <th>Mean_Wind_Speed_MPH</th>\n",
       "      <th>Precipitation_In</th>\n",
       "      <th>Events</th>\n",
       "      <th>month_year</th>\n",
       "      <th>Day_of_Week</th>\n",
       "    </tr>\n",
       "  </thead>\n",
       "  <tbody>\n",
       "    <tr>\n",
       "      <th>33</th>\n",
       "      <td>2014-10-13</td>\n",
       "      <td>Occidental Park / Occidental Ave S &amp; S Washington St</td>\n",
       "      <td>71</td>\n",
       "      <td>62.0</td>\n",
       "      <td>29.79</td>\n",
       "      <td>10</td>\n",
       "      <td>4</td>\n",
       "      <td>0.00</td>\n",
       "      <td>Rain</td>\n",
       "      <td>2014-10</td>\n",
       "      <td>Monday</td>\n",
       "    </tr>\n",
       "    <tr>\n",
       "      <th>7939</th>\n",
       "      <td>2015-04-18</td>\n",
       "      <td>Pier 69 / Alaskan Way &amp; Clay St</td>\n",
       "      <td>69</td>\n",
       "      <td>57.0</td>\n",
       "      <td>30.31</td>\n",
       "      <td>10</td>\n",
       "      <td>2</td>\n",
       "      <td>0.00</td>\n",
       "      <td>Rain</td>\n",
       "      <td>2015-04</td>\n",
       "      <td>Saturday</td>\n",
       "    </tr>\n",
       "    <tr>\n",
       "      <th>13145</th>\n",
       "      <td>2015-08-09</td>\n",
       "      <td>Pier 69 / Alaskan Way &amp; Clay St</td>\n",
       "      <td>66</td>\n",
       "      <td>72.0</td>\n",
       "      <td>29.96</td>\n",
       "      <td>10</td>\n",
       "      <td>5</td>\n",
       "      <td>0.00</td>\n",
       "      <td>Clear</td>\n",
       "      <td>2015-08</td>\n",
       "      <td>Sunday</td>\n",
       "    </tr>\n",
       "    <tr>\n",
       "      <th>8880</th>\n",
       "      <td>2015-05-09</td>\n",
       "      <td>Pier 69 / Alaskan Way &amp; Clay St</td>\n",
       "      <td>66</td>\n",
       "      <td>66.0</td>\n",
       "      <td>30.06</td>\n",
       "      <td>10</td>\n",
       "      <td>2</td>\n",
       "      <td>0.00</td>\n",
       "      <td>Clear</td>\n",
       "      <td>2015-05</td>\n",
       "      <td>Saturday</td>\n",
       "    </tr>\n",
       "    <tr>\n",
       "      <th>10469</th>\n",
       "      <td>2015-06-13</td>\n",
       "      <td>Pier 69 / Alaskan Way &amp; Clay St</td>\n",
       "      <td>63</td>\n",
       "      <td>64.0</td>\n",
       "      <td>30.07</td>\n",
       "      <td>10</td>\n",
       "      <td>3</td>\n",
       "      <td>0.00</td>\n",
       "      <td>Clear</td>\n",
       "      <td>2015-06</td>\n",
       "      <td>Saturday</td>\n",
       "    </tr>\n",
       "    <tr>\n",
       "      <th>...</th>\n",
       "      <td>...</td>\n",
       "      <td>...</td>\n",
       "      <td>...</td>\n",
       "      <td>...</td>\n",
       "      <td>...</td>\n",
       "      <td>...</td>\n",
       "      <td>...</td>\n",
       "      <td>...</td>\n",
       "      <td>...</td>\n",
       "      <td>...</td>\n",
       "      <td>...</td>\n",
       "    </tr>\n",
       "    <tr>\n",
       "      <th>27795</th>\n",
       "      <td>2016-06-29</td>\n",
       "      <td>Mercer St &amp; 9th Ave N</td>\n",
       "      <td>1</td>\n",
       "      <td>65.0</td>\n",
       "      <td>30.18</td>\n",
       "      <td>10</td>\n",
       "      <td>5</td>\n",
       "      <td>0.00</td>\n",
       "      <td>Clear</td>\n",
       "      <td>2016-06</td>\n",
       "      <td>Wednesday</td>\n",
       "    </tr>\n",
       "    <tr>\n",
       "      <th>20582</th>\n",
       "      <td>2016-01-26</td>\n",
       "      <td>12th Ave &amp; NE Campus Pkwy</td>\n",
       "      <td>1</td>\n",
       "      <td>50.0</td>\n",
       "      <td>30.24</td>\n",
       "      <td>9</td>\n",
       "      <td>4</td>\n",
       "      <td>0.27</td>\n",
       "      <td>Rain</td>\n",
       "      <td>2016-01</td>\n",
       "      <td>Tuesday</td>\n",
       "    </tr>\n",
       "    <tr>\n",
       "      <th>16006</th>\n",
       "      <td>2015-10-08</td>\n",
       "      <td>UW Magnuson Health Sciences Center Rotunda / Columbia Rd &amp; San Juan Rd</td>\n",
       "      <td>1</td>\n",
       "      <td>64.0</td>\n",
       "      <td>30.09</td>\n",
       "      <td>9</td>\n",
       "      <td>1</td>\n",
       "      <td>0.00</td>\n",
       "      <td>Clear</td>\n",
       "      <td>2015-10</td>\n",
       "      <td>Thursday</td>\n",
       "    </tr>\n",
       "    <tr>\n",
       "      <th>20564</th>\n",
       "      <td>2016-01-25</td>\n",
       "      <td>NE Pacific St/UW Medical Center</td>\n",
       "      <td>1</td>\n",
       "      <td>45.0</td>\n",
       "      <td>30.23</td>\n",
       "      <td>10</td>\n",
       "      <td>2</td>\n",
       "      <td>0.00</td>\n",
       "      <td>Clear</td>\n",
       "      <td>2016-01</td>\n",
       "      <td>Monday</td>\n",
       "    </tr>\n",
       "    <tr>\n",
       "      <th>17065</th>\n",
       "      <td>2015-10-31</td>\n",
       "      <td>UW Intramural Activities Building</td>\n",
       "      <td>1</td>\n",
       "      <td>59.0</td>\n",
       "      <td>29.65</td>\n",
       "      <td>8</td>\n",
       "      <td>11</td>\n",
       "      <td>0.99</td>\n",
       "      <td>Rain</td>\n",
       "      <td>2015-10</td>\n",
       "      <td>Saturday</td>\n",
       "    </tr>\n",
       "  </tbody>\n",
       "</table>\n",
       "<p>31070 rows × 11 columns</p>\n",
       "</div>"
      ],
      "text/plain": [
       "            Date  \\\n",
       "33    2014-10-13   \n",
       "7939  2015-04-18   \n",
       "13145 2015-08-09   \n",
       "8880  2015-05-09   \n",
       "10469 2015-06-13   \n",
       "...          ...   \n",
       "27795 2016-06-29   \n",
       "20582 2016-01-26   \n",
       "16006 2015-10-08   \n",
       "20564 2016-01-25   \n",
       "17065 2015-10-31   \n",
       "\n",
       "                                                                         name  \\\n",
       "33                       Occidental Park / Occidental Ave S & S Washington St   \n",
       "7939                                          Pier 69 / Alaskan Way & Clay St   \n",
       "13145                                         Pier 69 / Alaskan Way & Clay St   \n",
       "8880                                          Pier 69 / Alaskan Way & Clay St   \n",
       "10469                                         Pier 69 / Alaskan Way & Clay St   \n",
       "...                                                                       ...   \n",
       "27795                                                   Mercer St & 9th Ave N   \n",
       "20582                                               12th Ave & NE Campus Pkwy   \n",
       "16006  UW Magnuson Health Sciences Center Rotunda / Columbia Rd & San Juan Rd   \n",
       "20564                                         NE Pacific St/UW Medical Center   \n",
       "17065                                       UW Intramural Activities Building   \n",
       "\n",
       "       trip_count  Mean_Temperature_F  Mean_Sea_Level_Pressure_In  \\\n",
       "33             71                62.0                       29.79   \n",
       "7939           69                57.0                       30.31   \n",
       "13145          66                72.0                       29.96   \n",
       "8880           66                66.0                       30.06   \n",
       "10469          63                64.0                       30.07   \n",
       "...           ...                 ...                         ...   \n",
       "27795           1                65.0                       30.18   \n",
       "20582           1                50.0                       30.24   \n",
       "16006           1                64.0                       30.09   \n",
       "20564           1                45.0                       30.23   \n",
       "17065           1                59.0                       29.65   \n",
       "\n",
       "       Mean_Visibility_Miles  Mean_Wind_Speed_MPH  Precipitation_In Events  \\\n",
       "33                        10                    4              0.00   Rain   \n",
       "7939                      10                    2              0.00   Rain   \n",
       "13145                     10                    5              0.00  Clear   \n",
       "8880                      10                    2              0.00  Clear   \n",
       "10469                     10                    3              0.00  Clear   \n",
       "...                      ...                  ...               ...    ...   \n",
       "27795                     10                    5              0.00  Clear   \n",
       "20582                      9                    4              0.27   Rain   \n",
       "16006                      9                    1              0.00  Clear   \n",
       "20564                     10                    2              0.00  Clear   \n",
       "17065                      8                   11              0.99   Rain   \n",
       "\n",
       "      month_year Day_of_Week  \n",
       "33       2014-10      Monday  \n",
       "7939     2015-04    Saturday  \n",
       "13145    2015-08      Sunday  \n",
       "8880     2015-05    Saturday  \n",
       "10469    2015-06    Saturday  \n",
       "...          ...         ...  \n",
       "27795    2016-06   Wednesday  \n",
       "20582    2016-01     Tuesday  \n",
       "16006    2015-10    Thursday  \n",
       "20564    2016-01      Monday  \n",
       "17065    2015-10    Saturday  \n",
       "\n",
       "[31070 rows x 11 columns]"
      ]
     },
     "execution_count": 469,
     "metadata": {},
     "output_type": "execute_result"
    }
   ],
   "source": [
    "agg_df = agg_df.sort_values('trip_count', ascending=False)\n",
    "agg_df"
   ]
  },
  {
   "cell_type": "code",
   "execution_count": 470,
   "id": "ad74e1ea",
   "metadata": {},
   "outputs": [
    {
     "data": {
      "text/html": [
       "<div>\n",
       "<style scoped>\n",
       "    .dataframe tbody tr th:only-of-type {\n",
       "        vertical-align: middle;\n",
       "    }\n",
       "\n",
       "    .dataframe tbody tr th {\n",
       "        vertical-align: top;\n",
       "    }\n",
       "\n",
       "    .dataframe thead th {\n",
       "        text-align: right;\n",
       "    }\n",
       "</style>\n",
       "<table border=\"1\" class=\"dataframe\">\n",
       "  <thead>\n",
       "    <tr style=\"text-align: right;\">\n",
       "      <th></th>\n",
       "      <th>station_id</th>\n",
       "      <th>name</th>\n",
       "      <th>lat</th>\n",
       "      <th>long</th>\n",
       "      <th>current_dockcount</th>\n",
       "    </tr>\n",
       "  </thead>\n",
       "  <tbody>\n",
       "    <tr>\n",
       "      <th>0</th>\n",
       "      <td>BT-01</td>\n",
       "      <td>3rd Ave &amp; Broad St</td>\n",
       "      <td>47.618418</td>\n",
       "      <td>-122.350964</td>\n",
       "      <td>18</td>\n",
       "    </tr>\n",
       "    <tr>\n",
       "      <th>1</th>\n",
       "      <td>BT-03</td>\n",
       "      <td>2nd Ave &amp; Vine St</td>\n",
       "      <td>47.615829</td>\n",
       "      <td>-122.348564</td>\n",
       "      <td>16</td>\n",
       "    </tr>\n",
       "    <tr>\n",
       "      <th>2</th>\n",
       "      <td>BT-04</td>\n",
       "      <td>6th Ave &amp; Blanchard St</td>\n",
       "      <td>47.616094</td>\n",
       "      <td>-122.341102</td>\n",
       "      <td>16</td>\n",
       "    </tr>\n",
       "    <tr>\n",
       "      <th>3</th>\n",
       "      <td>BT-05</td>\n",
       "      <td>2nd Ave &amp; Blanchard St</td>\n",
       "      <td>47.613110</td>\n",
       "      <td>-122.344208</td>\n",
       "      <td>14</td>\n",
       "    </tr>\n",
       "    <tr>\n",
       "      <th>4</th>\n",
       "      <td>CBD-03</td>\n",
       "      <td>7th Ave &amp; Union St</td>\n",
       "      <td>47.610731</td>\n",
       "      <td>-122.332447</td>\n",
       "      <td>20</td>\n",
       "    </tr>\n",
       "  </tbody>\n",
       "</table>\n",
       "</div>"
      ],
      "text/plain": [
       "  station_id                    name        lat        long  current_dockcount\n",
       "0      BT-01      3rd Ave & Broad St  47.618418 -122.350964                 18\n",
       "1      BT-03       2nd Ave & Vine St  47.615829 -122.348564                 16\n",
       "2      BT-04  6th Ave & Blanchard St  47.616094 -122.341102                 16\n",
       "3      BT-05  2nd Ave & Blanchard St  47.613110 -122.344208                 14\n",
       "4     CBD-03      7th Ave & Union St  47.610731 -122.332447                 20"
      ]
     },
     "execution_count": 470,
     "metadata": {},
     "output_type": "execute_result"
    }
   ],
   "source": [
    "pd.set_option('display.max_colwidth', 50)\n",
    "stations_zip = stations\n",
    "stations_zip.head()\n"
   ]
  },
  {
   "cell_type": "code",
   "execution_count": 471,
   "id": "9b7baee9",
   "metadata": {},
   "outputs": [
    {
     "name": "stdout",
     "output_type": "stream",
     "text": [
      "Requirement already satisfied: geopy in c:\\programdata\\anaconda3\\lib\\site-packages (2.4.1)Note: you may need to restart the kernel to use updated packages.\n",
      "\n",
      "Requirement already satisfied: geographiclib<3,>=1.52 in c:\\programdata\\anaconda3\\lib\\site-packages (from geopy) (2.0)\n"
     ]
    }
   ],
   "source": [
    "pip install geopy"
   ]
  },
  {
   "cell_type": "code",
   "execution_count": null,
   "id": "f15092dd",
   "metadata": {},
   "outputs": [],
   "source": [
    "from geopy.geocoders import Nominatim\n",
    "\n",
    "# Create a geolocator object\n",
    "geolocator = Nominatim(user_agent=\"my_geocoder\")\n",
    "\n",
    "\n",
    "stations_zip['zipcode'] = stations_zip.apply(lambda row: geolocator.reverse((row['lat'], row['long']), language='en').raw.get('address', {}).get('postcode', 'ZIP code not found'), axis=1)\n",
    "stations_zip\n"
   ]
  },
  {
   "cell_type": "code",
   "execution_count": null,
   "id": "5722d495",
   "metadata": {},
   "outputs": [],
   "source": [
    "pd.set_option('display.max_colwidth', 100)\n",
    "stations_zip"
   ]
  },
  {
   "cell_type": "code",
   "execution_count": null,
   "id": "b100b478",
   "metadata": {},
   "outputs": [],
   "source": [
    "stations_zip['zipcode'].unique()"
   ]
  },
  {
   "cell_type": "code",
   "execution_count": null,
   "id": "ab7d80a5",
   "metadata": {},
   "outputs": [],
   "source": [
    "# not on zipcode income list - 98174 (should be 98104), 98191 (should be 98122 and 98109 for Lake Union Park / Valley St & Boren Ave N), 98015 (should be 98102), 98195 ( should be 98105 )"
   ]
  },
  {
   "cell_type": "code",
   "execution_count": null,
   "id": "6cfbeda5",
   "metadata": {},
   "outputs": [],
   "source": [
    "stations_zip['zipcode'] = stations_zip['zipcode'].astype(int).replace({98174:98104, 98191:98122, 98015:98102, 98195:98105})\n",
    "stations_zip = stations_zip.reset_index(drop=True)"
   ]
  },
  {
   "cell_type": "code",
   "execution_count": null,
   "id": "979a2574",
   "metadata": {},
   "outputs": [],
   "source": [
    "stations_zip.iloc[35,5] = 98109"
   ]
  },
  {
   "cell_type": "code",
   "execution_count": null,
   "id": "cbaf2853",
   "metadata": {},
   "outputs": [],
   "source": [
    "stations_zip.head()"
   ]
  },
  {
   "cell_type": "code",
   "execution_count": null,
   "id": "f50430f2",
   "metadata": {},
   "outputs": [],
   "source": [
    "merged_zipcode_df = pd.merge(left=stations_zip, right= agg_df, on='name')\n",
    "merged_zipcode_df.head()"
   ]
  },
  {
   "cell_type": "markdown",
   "id": "abec6473",
   "metadata": {},
   "source": [
    "### import and merge income data per zipcode"
   ]
  },
  {
   "cell_type": "code",
   "execution_count": null,
   "id": "b505b6d8",
   "metadata": {},
   "outputs": [],
   "source": [
    "cycle_stat_zipcode_income = pd.read_csv('data/cycle_stat_zipcode_income.csv')\n",
    "cycle_stat_zipcode_income = cycle_stat_zipcode_income.drop('weighted_income', axis=1)\n",
    "cycle_stat_zipcode_income.head()"
   ]
  },
  {
   "cell_type": "code",
   "execution_count": null,
   "id": "937ee813",
   "metadata": {},
   "outputs": [],
   "source": [
    "merged_income_df = pd.merge(left=cycle_stat_zipcode_income, right=merged_zipcode_df, left_on='zip code', right_on = 'zipcode')\n",
    "merged_income_df.head()"
   ]
  },
  {
   "cell_type": "code",
   "execution_count": null,
   "id": "3bddad34",
   "metadata": {},
   "outputs": [],
   "source": [
    "merged_income_df.columns"
   ]
  },
  {
   "cell_type": "code",
   "execution_count": null,
   "id": "6e40c5ee",
   "metadata": {},
   "outputs": [],
   "source": [
    "column_order = ['station_id', 'name', 'lat', 'long', 'current_dockcount',\n",
    "                         'zipcode', 'Date', 'trip_count', 'zip code', 'number of returns',\n",
    "                         'number of dependents', 'number of elderly returns [3]', 'weighted_av_income',\n",
    "                         'Mean_Temperature_F', 'Mean_Sea_Level_Pressure_In',\n",
    "                         'Mean_Visibility_Miles', 'Mean_Wind_Speed_MPH', 'Precipitation_In',\n",
    "                         'Events', 'month_year', 'Day_of_Week']\n",
    "merged_income_df = merged_income_df[column_order].drop('zip code', axis=1)\n",
    "merged_income_df.head()"
   ]
  },
  {
   "cell_type": "code",
   "execution_count": null,
   "id": "ec3dddf2",
   "metadata": {},
   "outputs": [],
   "source": [
    "merged_income_df.info()"
   ]
  },
  {
   "cell_type": "markdown",
   "id": "4f0dd822",
   "metadata": {},
   "source": [
    "### import pets data and merge"
   ]
  },
  {
   "cell_type": "code",
   "execution_count": null,
   "id": "83119e35",
   "metadata": {},
   "outputs": [],
   "source": [
    "num_dog_owners_by_zipcode = pd.read_csv('data/num_dog_owners_by_zipcode.csv')\n",
    "num_dog_owners_by_zipcode = num_dog_owners_by_zipcode.rename(columns={'zip_code':'zipcode', 'count':'num_dogs'})\n",
    "num_dog_owners_by_zipcode"
   ]
  },
  {
   "cell_type": "code",
   "execution_count": null,
   "id": "6cfbf5c5",
   "metadata": {},
   "outputs": [],
   "source": [
    "merged_income_pets_df = pd.merge(left=num_dog_owners_by_zipcode, right=merged_income_df, on='zipcode')\n",
    "merged_income_pets_df.head()"
   ]
  },
  {
   "cell_type": "markdown",
   "id": "1eeda035",
   "metadata": {},
   "source": [
    "### import schools, parks & venues data and merge"
   ]
  },
  {
   "cell_type": "code",
   "execution_count": null,
   "id": "298f9982",
   "metadata": {},
   "outputs": [],
   "source": [
    "stations_schools_parks_venues_df = pd.read_csv('data/stations_schools_parks_venues_within_1500m_df.csv')\n",
    "stations_schools_parks_venues_df.head()"
   ]
  },
  {
   "cell_type": "code",
   "execution_count": null,
   "id": "529fb433",
   "metadata": {},
   "outputs": [],
   "source": [
    "df = pd.merge(left=stations_schools_parks_venues_df, right=merged_income_pets_df, on='name')\n",
    "df = df.drop(['lat_x','long_x','station_id_x', 'station_id_y', 'lat_y', 'long_y','Date'],axis=1)"
   ]
  },
  {
   "cell_type": "code",
   "execution_count": null,
   "id": "978cce6a",
   "metadata": {},
   "outputs": [],
   "source": [
    "df.columns"
   ]
  },
  {
   "cell_type": "code",
   "execution_count": null,
   "id": "7c77df5d",
   "metadata": {},
   "outputs": [],
   "source": [
    "fig, ax =  plt.subplots(figsize = (10,10))\n",
    "\n",
    "\n",
    "# Plotting the heatmap on the axes\n",
    "sns.heatmap(df.corr(method='pearson'), \n",
    "            annot=True, \n",
    "            linewidths=0.8,\n",
    "            cmap='coolwarm',\n",
    "            center=0.0,\n",
    "            ax=ax);"
   ]
  },
  {
   "cell_type": "code",
   "execution_count": null,
   "id": "2d4527aa",
   "metadata": {},
   "outputs": [],
   "source": [
    "df = df.drop(['num_dogs','number of dependents', 'number of elderly returns [3]', 'number of returns'],axis=1)"
   ]
  },
  {
   "cell_type": "code",
   "execution_count": null,
   "id": "cf432b6e",
   "metadata": {},
   "outputs": [],
   "source": [
    "fig, ax =  plt.subplots(figsize = (10,10))\n",
    "\n",
    "# Plotting the heatmap on the axes\n",
    "sns.heatmap(df.corr(method='pearson'), \n",
    "            annot=True, \n",
    "            linewidths=0.8,\n",
    "            cmap='coolwarm',\n",
    "            center=0.0,\n",
    "            ax=ax);"
   ]
  },
  {
   "cell_type": "code",
   "execution_count": null,
   "id": "b0b8f683",
   "metadata": {},
   "outputs": [],
   "source": [
    "# Histograms\n",
    "fig = plt.figure(figsize=(16, 16))\n",
    "for index, col in enumerate(df.columns):\n",
    "    plt.subplot(6, 3, index + 1)\n",
    "    \n",
    "    # Check if the column contains numeric data\n",
    "    if pd.api.types.is_numeric_dtype(df[col]):\n",
    "        sns.histplot(df[col].dropna(), kde=True, stat=\"density\", linewidth=0.5)\n",
    "        plt.title(col)\n",
    "    else:\n",
    "        # Handle non-numeric data (e.g., categorical)\n",
    "        sns.countplot(x=col, data=df)\n",
    "        plt.title(col)\n",
    "        \n",
    "fig.tight_layout(pad=1.0)\n",
    "plt.show()\n"
   ]
  },
  {
   "cell_type": "code",
   "execution_count": null,
   "id": "80509d3e",
   "metadata": {},
   "outputs": [],
   "source": [
    "df.info()"
   ]
  },
  {
   "cell_type": "code",
   "execution_count": null,
   "id": "55b43ae9",
   "metadata": {},
   "outputs": [],
   "source": [
    "# box plots for outliers also\n",
    "fig = plt.figure(figsize=(14,15))\n",
    "for index,col in enumerate(df):\n",
    "    if df[col].dtype == 'int64' or df[col].dtype == 'float64':\n",
    "        plt.subplot(6,5,index+1)\n",
    "        sns.boxplot(y=col, data=df)\n",
    "        plt.grid()\n",
    "fig.tight_layout(pad=1.0)"
   ]
  },
  {
   "cell_type": "markdown",
   "id": "553b1c6c",
   "metadata": {},
   "source": [
    "#### not removed outliers because R2 score drops significantly  on Random Forest model<b>\n",
    "MAE =  2.8635\n",
    "MSE =  16.1421\n",
    "RMSE =  4.0177\n",
    "R^2 =  0.6277 <b><b>\n",
    "    \n",
    "MAE =  2.7102\n",
    "MSE =  11.9362\n",
    "RMSE =  3.4549\n",
    "R^2 =  0.5108"
   ]
  },
  {
   "cell_type": "markdown",
   "id": "07998eb2",
   "metadata": {},
   "source": [
    "outlier_cols = ['trip_count', 'Mean_Temperature_F', 'Mean_Sea_Level_Pressure_In', \n",
    "                'Mean_Visibility_Miles', 'Mean_Wind_Speed_MPH', 'Precipitation_In']\n"
   ]
  },
  {
   "cell_type": "markdown",
   "id": "665447c6",
   "metadata": {},
   "source": [
    "df.columns"
   ]
  },
  {
   "cell_type": "markdown",
   "id": "b13dcc53",
   "metadata": {},
   "source": [
    "Q1 = df[outlier_cols].quantile(0.25)\n",
    "Q3 = df[outlier_cols].quantile(0.75)\n",
    "IQR = Q3 - Q1"
   ]
  },
  {
   "cell_type": "markdown",
   "id": "297ea807",
   "metadata": {},
   "source": [
    "outlier_filter = ((df[outlier_cols] < (Q1 - 1.5 * IQR)) | (df[outlier_cols] > (Q3 + 1.5 * IQR)))"
   ]
  },
  {
   "cell_type": "markdown",
   "id": "ec682962",
   "metadata": {},
   "source": [
    "outlier_rows = outlier_filter.any(axis=1)"
   ]
  },
  {
   "cell_type": "markdown",
   "id": "4b7a476a",
   "metadata": {},
   "source": [
    "df = df[~outlier_rows]\n"
   ]
  },
  {
   "cell_type": "markdown",
   "id": "599d2858",
   "metadata": {},
   "source": [
    "\n",
    "fig = plt.figure(figsize=(14,15))\n",
    "for index,col in enumerate(df):\n",
    "    if df[col].dtype == 'int64' or df[col].dtype == 'float64':\n",
    "        plt.subplot(6,5,index+1)\n",
    "        sns.boxplot(y=col, data=df)\n",
    "        plt.grid()\n",
    "fig.tight_layout(pad=1.0)"
   ]
  },
  {
   "cell_type": "markdown",
   "id": "576c89e2",
   "metadata": {},
   "source": [
    "df.info()"
   ]
  },
  {
   "cell_type": "code",
   "execution_count": null,
   "id": "fab682ad",
   "metadata": {},
   "outputs": [],
   "source": [
    "df['zipcode'] = df['zipcode'].astype(object)"
   ]
  },
  {
   "cell_type": "code",
   "execution_count": null,
   "id": "2558d701",
   "metadata": {},
   "outputs": [],
   "source": [
    "(df['zipcode']).dtypes"
   ]
  },
  {
   "cell_type": "markdown",
   "id": "5669a8a4",
   "metadata": {},
   "source": [
    "### encoding the categorical columns using One-Hot Encoding"
   ]
  },
  {
   "cell_type": "code",
   "execution_count": null,
   "id": "f988f9e2",
   "metadata": {},
   "outputs": [],
   "source": [
    "df = pd.get_dummies(df, columns=['zipcode'])\n",
    "df.head(1)"
   ]
  },
  {
   "cell_type": "code",
   "execution_count": null,
   "id": "a00af7d3",
   "metadata": {},
   "outputs": [],
   "source": [
    "df = pd.get_dummies(df, columns=['Events'])\n",
    "df.head(1)"
   ]
  },
  {
   "cell_type": "code",
   "execution_count": null,
   "id": "d200a5ba",
   "metadata": {},
   "outputs": [],
   "source": [
    "df = pd.get_dummies(df, columns=['name'])\n",
    "df.head(1)"
   ]
  },
  {
   "cell_type": "code",
   "execution_count": null,
   "id": "d976fab2",
   "metadata": {},
   "outputs": [],
   "source": [
    "df = pd.get_dummies(df, columns=['Day_of_Week'])\n",
    "df.head(1)"
   ]
  },
  {
   "cell_type": "code",
   "execution_count": null,
   "id": "ad4edfff",
   "metadata": {},
   "outputs": [],
   "source": [
    "df = pd.get_dummies(df, columns=['month_year'])\n",
    "df.head(1)"
   ]
  },
  {
   "cell_type": "code",
   "execution_count": null,
   "id": "d7adb599",
   "metadata": {},
   "outputs": [],
   "source": [
    "for elem in df.dtypes:\n",
    "    print(elem)"
   ]
  },
  {
   "cell_type": "markdown",
   "id": "2b724f6a",
   "metadata": {},
   "source": [
    "### splitting the data"
   ]
  },
  {
   "cell_type": "code",
   "execution_count": null,
   "id": "3d44641c",
   "metadata": {},
   "outputs": [],
   "source": [
    "from sklearn.model_selection import train_test_split\n",
    "X = df.drop(['trip_count'],axis=1)\n",
    "cols = X.columns\n",
    "y = df['trip_count']\n",
    "X_train, X_test, y_train, y_test = train_test_split(X, y, test_size=0.20, random_state =42)"
   ]
  },
  {
   "cell_type": "code",
   "execution_count": null,
   "id": "7f84c262",
   "metadata": {},
   "outputs": [],
   "source": []
  },
  {
   "cell_type": "code",
   "execution_count": null,
   "id": "f2dcfb07",
   "metadata": {},
   "outputs": [],
   "source": []
  },
  {
   "cell_type": "code",
   "execution_count": null,
   "id": "de01ed91",
   "metadata": {},
   "outputs": [],
   "source": []
  },
  {
   "cell_type": "markdown",
   "id": "1c5bc982",
   "metadata": {},
   "source": [
    "### scaling the data"
   ]
  },
  {
   "cell_type": "markdown",
   "id": "1e2609b1",
   "metadata": {},
   "source": [
    "for simplicity no scaling will be done unless the model results are poor"
   ]
  },
  {
   "cell_type": "markdown",
   "id": "badbca56",
   "metadata": {},
   "source": [
    "### Random Forest model"
   ]
  },
  {
   "cell_type": "code",
   "execution_count": null,
   "id": "46f0be62",
   "metadata": {},
   "outputs": [],
   "source": [
    "from sklearn.ensemble import RandomForestRegressor\n",
    "from sklearn.metrics import mean_absolute_error, mean_squared_error, r2_score"
   ]
  },
  {
   "cell_type": "code",
   "execution_count": null,
   "id": "b635c0be",
   "metadata": {},
   "outputs": [],
   "source": [
    "rf = RandomForestRegressor()\n",
    "\n",
    "rf.fit(X_train[cols], y_train)\n",
    "\n",
    "y_pred_rf = rf.predict(X_test[cols])\n",
    "\n",
    "y_pred_rf = y_pred_rf.reshape(-1, 1)\n",
    "\n",
    "mae = mean_absolute_error(y_test, y_pred_rf)\n",
    "mse = mean_squared_error(y_test, y_pred_rf)\n",
    "rmse = np.sqrt(mse)\n",
    "\n",
    "# Calculting the R^2\n",
    "r2 = r2_score(y_test, y_pred_rf)\n",
    "\n",
    "# Viewing these results\n",
    "print('MAE = ', mae.round(4))\n",
    "print('MSE = ', mse.round(4))\n",
    "print('RMSE = ', rmse.round(4))\n",
    "print('R^2 = ', r2.round(4)) "
   ]
  },
  {
   "cell_type": "code",
   "execution_count": null,
   "id": "879405ee",
   "metadata": {},
   "outputs": [],
   "source": [
    "# Display feature importances\n",
    "feature_importances = pd.DataFrame({'Feature': cols, 'Importance': rf.feature_importances_})\n",
    "\n",
    "feature_importances.sort_values('Importance', ascending=False).head(10)"
   ]
  },
  {
   "cell_type": "code",
   "execution_count": null,
   "id": "e11f6d2c",
   "metadata": {},
   "outputs": [],
   "source": [
    "y_test2 = y_test.ravel()\n",
    "error = y_test2 - y_pred_rf\n",
    "np.sqrt(np.mean(error**2))\n",
    "# histogram showing the distribution of the error\n",
    "fig, ax = plt.subplots()\n",
    "ax.hist(error)\n",
    "plt.show()"
   ]
  },
  {
   "cell_type": "code",
   "execution_count": null,
   "id": "c3e6db6d",
   "metadata": {},
   "outputs": [],
   "source": [
    "fig, ax = plt.subplots()\n",
    "ax.scatter(y_test, y_pred_rf, s=5)\n",
    "ax.plot([0,50],[0,50], linestyle= '--')\n",
    "ax.set_xlabel('Actual Value')\n",
    "ax.set_ylabel('Predicted Value');"
   ]
  },
  {
   "cell_type": "markdown",
   "id": "68348c3b",
   "metadata": {},
   "source": [
    "### feature selection using sklearn SelectFromModel to filter features with low relevancy"
   ]
  },
  {
   "cell_type": "code",
   "execution_count": null,
   "id": "908a9cbd",
   "metadata": {},
   "outputs": [],
   "source": [
    "from sklearn.feature_selection import SelectFromModel\n",
    "\n",
    "# Select features based on a threshold\n",
    "sfm = SelectFromModel(rf, threshold=0.01)\n",
    "sfm.fit(X_train, y_train)\n",
    "\n",
    "# Get selected features\n",
    "selected_features = X_train.columns[sfm.get_support()]"
   ]
  },
  {
   "cell_type": "code",
   "execution_count": null,
   "id": "9fc9fb17",
   "metadata": {},
   "outputs": [],
   "source": [
    "selected_features"
   ]
  },
  {
   "cell_type": "code",
   "execution_count": null,
   "id": "798352d7",
   "metadata": {},
   "outputs": [],
   "source": [
    "X_select = X[['schools_within_1.5km', 'parks_within_500m', 'parks_within_1.5km',\n",
    "       'venues_within_500m', 'current_dockcount', 'weighted_av_income',\n",
    "       'Mean_Temperature_F', 'Mean_Sea_Level_Pressure_In',\n",
    "       'Mean_Wind_Speed_MPH', 'Precipitation_In', 'name_3rd Ave & Broad St',\n",
    "       'name_E Harrison St & Broadway Ave E', 'name_E Pine St & 16th Ave',\n",
    "       'name_Westlake Ave & 6th Ave', 'Day_of_Week_Saturday',\n",
    "       'Day_of_Week_Sunday', 'month_year_2015-01', 'month_year_2015-02',\n",
    "       'month_year_2015-03', 'month_year_2015-04', 'month_year_2015-05',\n",
    "       'month_year_2015-07', 'zipcode_98105']]\n",
    "cols = X_select.columns"
   ]
  },
  {
   "cell_type": "code",
   "execution_count": null,
   "id": "c5645e41",
   "metadata": {},
   "outputs": [],
   "source": [
    "X_train, X_test, y_train, y_test = train_test_split(X_select, y, test_size=0.20, random_state =42)"
   ]
  },
  {
   "cell_type": "code",
   "execution_count": null,
   "id": "d932b7e9",
   "metadata": {},
   "outputs": [],
   "source": [
    "rf = RandomForestRegressor()\n",
    "\n",
    "rf.fit(X_train[cols], y_train)\n",
    "\n",
    "y_pred_rf2 = rf.predict(X_test[cols])\n",
    "\n",
    "y_pred_rf2 = y_pred_rf.reshape(-1, 1)\n",
    "\n",
    "mae = mean_absolute_error(y_test, y_pred_rf2)\n",
    "mse = mean_squared_error(y_test, y_pred_rf2)\n",
    "rmse = np.sqrt(mse)\n",
    "\n",
    "# Calculting the R^2\n",
    "r2 = r2_score(y_test, y_pred_rf2)\n",
    "\n",
    "# Viewing these results\n",
    "print('MAE = ', mae.round(4))\n",
    "print('MSE = ', mse.round(4))\n",
    "print('RMSE = ', rmse.round(4))\n",
    "print('R^2 = ', r2.round(4)) "
   ]
  },
  {
   "cell_type": "code",
   "execution_count": null,
   "id": "03c31249",
   "metadata": {},
   "outputs": [],
   "source": [
    "fig, ax = plt.subplots()\n",
    "ax.scatter(y_test, y_pred_rf2, s=5)\n",
    "ax.plot([0,50],[0,50], linestyle= '--')\n",
    "ax.set_xlabel('Actual Value')\n",
    "ax.set_ylabel('Predicted Value');"
   ]
  },
  {
   "cell_type": "markdown",
   "id": "b1355c54",
   "metadata": {},
   "source": []
  },
  {
   "cell_type": "code",
   "execution_count": null,
   "id": "466bb99c",
   "metadata": {},
   "outputs": [],
   "source": []
  },
  {
   "cell_type": "code",
   "execution_count": null,
   "id": "856fb19a",
   "metadata": {},
   "outputs": [],
   "source": []
  },
  {
   "cell_type": "code",
   "execution_count": null,
   "id": "18f10a8d",
   "metadata": {},
   "outputs": [],
   "source": []
  },
  {
   "cell_type": "code",
   "execution_count": null,
   "id": "677e1b0f",
   "metadata": {},
   "outputs": [],
   "source": []
  },
  {
   "cell_type": "code",
   "execution_count": null,
   "id": "a7877791",
   "metadata": {},
   "outputs": [],
   "source": []
  },
  {
   "cell_type": "code",
   "execution_count": null,
   "id": "7634574f",
   "metadata": {},
   "outputs": [],
   "source": []
  },
  {
   "cell_type": "code",
   "execution_count": null,
   "id": "6268c080",
   "metadata": {},
   "outputs": [],
   "source": []
  },
  {
   "cell_type": "markdown",
   "id": "57144f89",
   "metadata": {},
   "source": [
    "## Linear Regression model"
   ]
  },
  {
   "cell_type": "code",
   "execution_count": null,
   "id": "2eadc614",
   "metadata": {},
   "outputs": [],
   "source": []
  },
  {
   "cell_type": "code",
   "execution_count": null,
   "id": "2de665fc",
   "metadata": {},
   "outputs": [],
   "source": []
  },
  {
   "cell_type": "code",
   "execution_count": null,
   "id": "bdbecafb",
   "metadata": {},
   "outputs": [],
   "source": []
  },
  {
   "cell_type": "code",
   "execution_count": null,
   "id": "60a626bf",
   "metadata": {},
   "outputs": [],
   "source": []
  },
  {
   "cell_type": "markdown",
   "id": "58e59242",
   "metadata": {},
   "source": [
    "### splitting the data"
   ]
  },
  {
   "cell_type": "code",
   "execution_count": null,
   "id": "904509a6",
   "metadata": {},
   "outputs": [],
   "source": [
    "from sklearn.model_selection import train_test_split\n",
    "X = df.drop(['trip_count'],axis=1)\n",
    "cols = X.columns\n",
    "y = df['trip_count']\n",
    "X_train, X_test, y_train, y_test = train_test_split(X, y, test_size=0.20, random_state =42)"
   ]
  },
  {
   "cell_type": "markdown",
   "id": "4c8f1a6e",
   "metadata": {},
   "source": [
    "### scaling the data\n",
    "important for Linear Regression <b>\n",
    "    \n",
    "Results without scaling:\n",
    "MAE =  3.8661\n",
    "MSE =  27.7064\n",
    "RMSE =  5.2637\n",
    "R^2 =  0.3609 <b>\n",
    "\n",
    "Results with scaling:\n",
    "MAE =  3.4198\n",
    "MSE =  22.805\n",
    "RMSE =  4.7755\n",
    "R^2 =  0.474"
   ]
  },
  {
   "cell_type": "code",
   "execution_count": null,
   "id": "b4716cea",
   "metadata": {},
   "outputs": [],
   "source": [
    "from sklearn.preprocessing import StandardScaler\n",
    "scaler =  StandardScaler()\n",
    "scaler_target = StandardScaler()"
   ]
  },
  {
   "cell_type": "code",
   "execution_count": null,
   "id": "bc2fc1d8",
   "metadata": {},
   "outputs": [],
   "source": [
    "cols_to_scale = ['schools_within_1.5km', 'parks_within_500m', 'parks_within_1.5km',\n",
    "       'venues_within_500m', 'current_dockcount',\n",
    "       'weighted_av_income','Mean_Temperature_F',\n",
    " 'Mean_Sea_Level_Pressure_In',\n",
    " 'Mean_Visibility_Miles',\n",
    " 'Mean_Wind_Speed_MPH',\n",
    " 'Precipitation_In']"
   ]
  },
  {
   "cell_type": "code",
   "execution_count": null,
   "id": "053fc2da",
   "metadata": {},
   "outputs": [],
   "source": [
    "X_train.describe().round(3)"
   ]
  },
  {
   "cell_type": "code",
   "execution_count": null,
   "id": "2a00fdc9",
   "metadata": {},
   "outputs": [],
   "source": [
    "X_train[cols_to_scale] = scaler.fit_transform(X_train[cols_to_scale].values)\n",
    "X_test[cols_to_scale] = scaler.transform(X_test[cols_to_scale].values)"
   ]
  },
  {
   "cell_type": "code",
   "execution_count": null,
   "id": "d6b2e002",
   "metadata": {},
   "outputs": [],
   "source": [
    "y_train = scaler_target.fit_transform(y_train.values.reshape(-1, 1))\n",
    "y_test = scaler_target.transform(y_test.values.reshape(-1, 1))"
   ]
  },
  {
   "cell_type": "code",
   "execution_count": null,
   "id": "148aabc8",
   "metadata": {},
   "outputs": [],
   "source": [
    "X_train.describe().round(3)"
   ]
  },
  {
   "cell_type": "code",
   "execution_count": null,
   "id": "3fe74a63",
   "metadata": {},
   "outputs": [],
   "source": [
    "print(y_train.std(), y_train.mean().round(1))\n",
    "print(y_test.std().round(2), y_test.mean().round(1))"
   ]
  },
  {
   "cell_type": "markdown",
   "id": "04da1765",
   "metadata": {},
   "source": [
    "## Build the model"
   ]
  },
  {
   "cell_type": "code",
   "execution_count": null,
   "id": "8a13fcb0",
   "metadata": {},
   "outputs": [],
   "source": [
    "cols = X.columns"
   ]
  },
  {
   "cell_type": "code",
   "execution_count": null,
   "id": "27e3bbbd",
   "metadata": {},
   "outputs": [],
   "source": [
    "from sklearn.linear_model import LinearRegression\n",
    "\n",
    "\n",
    "# call the method\n",
    "regressor = LinearRegression( )\n",
    "\n",
    "# Fit the model\n",
    "regressor.fit(X_train[cols],y_train)\n",
    "\n",
    "# Carry out predictions on our test set\n",
    "y_pred = regressor.predict(X_test[cols])\n",
    "\n"
   ]
  },
  {
   "cell_type": "code",
   "execution_count": null,
   "id": "5183ecf0",
   "metadata": {},
   "outputs": [],
   "source": [
    "# first we need to reverse the transformation so we have meanginful results\n",
    "y_true = scaler_target.inverse_transform(y_test)\n",
    "y_pred = scaler_target.inverse_transform(y_pred)\n",
    "\n",
    "# Calculating the errors\n",
    "mae = mean_absolute_error(y_true, y_pred)\n",
    "mse = mean_squared_error(y_true, y_pred)\n",
    "rmse = np.sqrt(mse)\n",
    "\n",
    "# Calculting the R^2\n",
    "r2 = r2_score(y_true, y_pred)\n",
    "\n",
    "# Viewing these results\n",
    "print('MAE = ', mae.round(4))\n",
    "print('MSE = ', mse.round(4))\n",
    "print('RMSE = ', rmse.round(4))\n",
    "print('R^2 = ', r2.round(4)) "
   ]
  },
  {
   "cell_type": "code",
   "execution_count": null,
   "id": "96783ae1",
   "metadata": {},
   "outputs": [],
   "source": [
    "error = y_true - y_pred\n",
    "np.sqrt(np.mean(error**2))\n",
    "# histogram showing the distribution of the error\n",
    "fig, ax = plt.subplots()\n",
    "ax.hist(error)\n",
    "plt.show()"
   ]
  },
  {
   "cell_type": "code",
   "execution_count": null,
   "id": "4ac38bd2",
   "metadata": {},
   "outputs": [],
   "source": [
    "fig, ax = plt.subplots()\n",
    "ax.scatter(y_test, y_pred, s=5)\n",
    "ax.plot([0,5],[0,20], linestyle= '--')\n",
    "ax.set_xlabel('Actual Value')\n",
    "ax.set_ylabel('Predicted Value');"
   ]
  },
  {
   "cell_type": "markdown",
   "id": "0635090c",
   "metadata": {},
   "source": [
    "### Remove Outliers"
   ]
  },
  {
   "cell_type": "code",
   "execution_count": null,
   "id": "39e45f12",
   "metadata": {},
   "outputs": [],
   "source": [
    "outlier_cols = ['trip_count', 'Mean_Temperature_F', 'Mean_Sea_Level_Pressure_In', \n",
    "                'Mean_Visibility_Miles', 'Mean_Wind_Speed_MPH', 'Precipitation_In']\n"
   ]
  },
  {
   "cell_type": "code",
   "execution_count": null,
   "id": "798820a3",
   "metadata": {},
   "outputs": [],
   "source": [
    "Q1 = df[outlier_cols].quantile(0.25)\n",
    "Q3 = df[outlier_cols].quantile(0.75)\n",
    "IQR = Q3 - Q1\n",
    "\n",
    "outlier_filter = ((df[outlier_cols] < (Q1 - 1.5 * IQR)) | (df[outlier_cols] > (Q3 + 1.5 * IQR)))\n",
    "\n",
    "outlier_rows = outlier_filter.any(axis=1)\n",
    "\n",
    "df_clean = df[~outlier_rows]\n",
    "\n",
    "\n",
    "\n",
    "fig = plt.figure(figsize=(14,15))\n",
    "for index,col in enumerate(df_clean):\n",
    "    if df_clean[col].dtype == 'int64' or df_clean[col].dtype == 'float64':\n",
    "        plt.subplot(6,5,index+1)\n",
    "        sns.boxplot(y=col, data=df_clean)\n",
    "        plt.grid()\n",
    "fig.tight_layout(pad=1.0)"
   ]
  },
  {
   "cell_type": "code",
   "execution_count": null,
   "id": "3824a94e",
   "metadata": {},
   "outputs": [],
   "source": [
    "df_clean.info() # total data points dropped from 31070 to 22931"
   ]
  },
  {
   "cell_type": "markdown",
   "id": "06e23ce4",
   "metadata": {},
   "source": [
    "## Rebuild linear reg model without outliers"
   ]
  },
  {
   "cell_type": "code",
   "execution_count": null,
   "id": "42b0fcdb",
   "metadata": {},
   "outputs": [],
   "source": [
    "cols = X.columns"
   ]
  },
  {
   "cell_type": "code",
   "execution_count": null,
   "id": "d3709d87",
   "metadata": {},
   "outputs": [],
   "source": [
    "from sklearn.model_selection import train_test_split\n",
    "X = df_clean.drop(['trip_count'],axis=1)\n",
    "cols = X.columns\n",
    "y = df_clean['trip_count']\n",
    "X_train, X_test, y_train, y_test = train_test_split(X, y, test_size=0.20, random_state =42)"
   ]
  },
  {
   "cell_type": "code",
   "execution_count": null,
   "id": "7fee3bf8",
   "metadata": {},
   "outputs": [],
   "source": [
    "cols_to_scale = ['schools_within_1.5km', 'parks_within_500m', 'parks_within_1.5km',\n",
    "       'venues_within_500m', 'current_dockcount',\n",
    "       'weighted_av_income','Mean_Temperature_F',\n",
    " 'Mean_Sea_Level_Pressure_In',\n",
    " 'Mean_Visibility_Miles',\n",
    " 'Mean_Wind_Speed_MPH',\n",
    " 'Precipitation_In']"
   ]
  },
  {
   "cell_type": "code",
   "execution_count": null,
   "id": "e489965d",
   "metadata": {},
   "outputs": [],
   "source": [
    "X_train[cols_to_scale] = scaler.fit_transform(X_train[cols_to_scale].values)\n",
    "X_test[cols_to_scale] = scaler.transform(X_test[cols_to_scale].values)\n",
    "y_train = scaler_target.fit_transform(y_train.values.reshape(-1, 1))\n",
    "y_test = scaler_target.transform(y_test.values.reshape(-1, 1))"
   ]
  },
  {
   "cell_type": "code",
   "execution_count": null,
   "id": "296c9a2f",
   "metadata": {},
   "outputs": [],
   "source": [
    "# call the method\n",
    "regressor = LinearRegression( )\n",
    "\n",
    "# Fit the model\n",
    "regressor.fit(X_train[cols],y_train)\n",
    "\n",
    "# Carry out predictions on our test set\n",
    "y_pred = regressor.predict(X_test[cols])\n",
    "\n"
   ]
  },
  {
   "cell_type": "code",
   "execution_count": null,
   "id": "53f13f53",
   "metadata": {},
   "outputs": [],
   "source": [
    "# first we need to reverse the transformation so we have meanginful results\n",
    "y_true = scaler_target.inverse_transform(y_test)\n",
    "y_pred = scaler_target.inverse_transform(y_pred)\n",
    "\n",
    "# Calculating the errors\n",
    "mae = mean_absolute_error(y_true, y_pred)\n",
    "mse = mean_squared_error(y_true, y_pred)\n",
    "rmse = np.sqrt(mse)\n",
    "\n",
    "# Calculting the R^2\n",
    "r2 = r2_score(y_true, y_pred)\n",
    "\n",
    "# Viewing these results\n",
    "print('MAE = ', mae.round(4))\n",
    "print('MSE = ', mse.round(4))\n",
    "print('RMSE = ', rmse.round(4))\n",
    "print('R^2 = ', r2.round(4)) "
   ]
  },
  {
   "cell_type": "markdown",
   "id": "6fd35643",
   "metadata": {},
   "source": [
    "results with outliers: \n",
    "MAE =  3.4198\n",
    "MSE =  22.805\n",
    "RMSE =  4.7755\n",
    "R^2 =  0.474\n",
    "- results with outliers has a slightly higher R^2 but much more error"
   ]
  },
  {
   "cell_type": "code",
   "execution_count": null,
   "id": "590fc6de",
   "metadata": {},
   "outputs": [],
   "source": [
    "fig, ax = plt.subplots()\n",
    "ax.scatter(y_test, y_pred, s=1)\n",
    "ax.plot([0,5],[0,20], linestyle= '--')\n",
    "ax.set_xlabel('Actual Value')\n",
    "ax.set_ylabel('Predicted Value');"
   ]
  },
  {
   "cell_type": "code",
   "execution_count": null,
   "id": "d15417af",
   "metadata": {},
   "outputs": [],
   "source": []
  },
  {
   "cell_type": "code",
   "execution_count": null,
   "id": "afc1fe94",
   "metadata": {},
   "outputs": [],
   "source": []
  },
  {
   "cell_type": "code",
   "execution_count": null,
   "id": "f63b39e8",
   "metadata": {},
   "outputs": [],
   "source": []
  }
 ],
 "metadata": {
  "kernelspec": {
   "display_name": "Python 3 (ipykernel)",
   "language": "python",
   "name": "python3"
  },
  "language_info": {
   "codemirror_mode": {
    "name": "ipython",
    "version": 3
   },
   "file_extension": ".py",
   "mimetype": "text/x-python",
   "name": "python",
   "nbconvert_exporter": "python",
   "pygments_lexer": "ipython3",
   "version": "3.10.9"
  }
 },
 "nbformat": 4,
 "nbformat_minor": 5
}
